{
    "metadata": {
        "kernelspec": {
            "name": "SQL",
            "display_name": "SQL",
            "language": "sql"
        },
        "language_info": {
            "name": "sql",
            "version": ""
        }
    },
    "nbformat_minor": 2,
    "nbformat": 4,
    "cells": [
        {
            "cell_type": "markdown",
            "source": [
                "Create external database"
            ],
            "metadata": {
                "azdata_cell_guid": "69fe236b-e464-4b94-99ab-89540b650bc9"
            }
        },
        {
            "cell_type": "code",
            "source": [
                "IF NOT EXISTS (SELECT * FROM master.dbo.sysdatabases WHERE name = 'externalDB')\r\n",
                "    BEGIN\r\n",
                "        CREATE DATABASE externalDB\r\n",
                "END;\r\n",
                "\r\n",
                "SELECT * FROM master.dbo.sysdatabases WHERE name = 'externalDB';\r\n",
                "USE externalDB;\r\n",
                "GO"
            ],
            "metadata": {
                "azdata_cell_guid": "bf18c000-8178-46e9-b845-87e7761f3886",
                "tags": []
            },
            "outputs": [],
            "execution_count": null
        },
        {
            "cell_type": "markdown",
            "source": [
                "Create master key"
            ],
            "metadata": {
                "azdata_cell_guid": "ee0fd142-e1cb-41de-a2e0-7794e8fe3e7a"
            }
        },
        {
            "cell_type": "code",
            "source": [
                "CREATE MASTER KEY ENCRYPTION BY PASSWORD = 'Password1234';"
            ],
            "metadata": {
                "azdata_cell_guid": "82dde924-bac9-4918-a754-ac88386fa42f",
                "tags": []
            },
            "outputs": [],
            "execution_count": null
        },
        {
            "cell_type": "markdown",
            "source": [
                "Create external data source"
            ],
            "metadata": {
                "azdata_cell_guid": "83669482-f4d0-4aea-a5de-bf97f00ec895"
            }
        },
        {
            "cell_type": "code",
            "source": [
                "IF NOT EXISTS(SELECT * FROM sys.external_data_sources WHERE name = 'SqlStoragePool')\r\n",
                "    CREATE EXTERNAL DATA SOURCE SqlStoragePool\r\n",
                "    WITH (LOCATION = 'sqlhdfs://controller-svc/default');"
            ],
            "metadata": {
                "azdata_cell_guid": "ef1586f3-6267-4c8f-8313-1227d08405cc"
            },
            "outputs": [],
            "execution_count": null
        },
        {
            "cell_type": "markdown",
            "source": [
                "Create external table"
            ],
            "metadata": {
                "azdata_cell_guid": "9a6442b4-b1fa-400a-bd49-624889ba1f48"
            }
        },
        {
            "cell_type": "code",
            "source": [
                "BEGIN TRY\r\n",
                "    BEGIN TRANSACTION Ta88b9c3f6b794fb7ad2e4bcfa6bb95d\r\n",
                "        USE [externalDB];\r\n",
                "        CREATE EXTERNAL FILE FORMAT [airline_delay_causes]\r\n",
                "            WITH (FORMAT_TYPE = DELIMITEDTEXT, FORMAT_OPTIONS (FIELD_TERMINATOR = N',', STRING_DELIMITER = N'\"', FIRST_ROW = 2));\r\n",
                "        CREATE EXTERNAL TABLE [dbo].[airline_delay_causes]\r\n",
                "        (\r\n",
                "            [year] smallint NOT NULL,\r\n",
                "            [month] tinyint NOT NULL,\r\n",
                "            [carrier] nvarchar(50) NOT NULL,\r\n",
                "            [carrier_name] nvarchar(50) NOT NULL,\r\n",
                "            [airport] nvarchar(50) NOT NULL,\r\n",
                "            [airport_name] nvarchar(100) NOT NULL,\r\n",
                "            [arr_flights] float NOT NULL,\r\n",
                "            [arr_del15] float NOT NULL,\r\n",
                "            [carrier_ct] float NOT NULL,\r\n",
                "            [weather_ct] float NOT NULL,\r\n",
                "            [nas_ct] float NOT NULL,\r\n",
                "            [security_ct] float NOT NULL,\r\n",
                "            [late_aircraft_ct] float NOT NULL,\r\n",
                "            [arr_cancelled] float NOT NULL,\r\n",
                "            [arr_diverted] float NOT NULL,\r\n",
                "            [arr_delay] float NOT NULL,\r\n",
                "            [carrier_delay] float NOT NULL,\r\n",
                "            [weather_delay] float NOT NULL,\r\n",
                "            [nas_delay] float NOT NULL,\r\n",
                "            [security_delay] float NOT NULL,\r\n",
                "            [late_aircraft_delay] float NOT NULL,\r\n",
                "            [column22] nvarchar(1)\r\n",
                "        )\r\n",
                "        WITH (LOCATION = N'/Data/66135976_82020_2429_airline_delay_causes.csv', DATA_SOURCE = [SqlStoragePool], FILE_FORMAT = [airline_delay_causes]);\r\n",
                "    COMMIT TRANSACTION Ta88b9c3f6b794fb7ad2e4bcfa6bb95d\r\n",
                "END TRY\r\n",
                "BEGIN CATCH\r\n",
                "    IF @@TRANCOUNT > 0\r\n",
                "        ROLLBACK TRANSACTION Ta88b9c3f6b794fb7ad2e4bcfa6bb95d\r\n",
                "    DECLARE @ErrorMessage NVARCHAR(max) = ERROR_MESSAGE();\r\n",
                "    DECLARE @ErrorSeverity INT = ERROR_SEVERITY();\r\n",
                "    DECLARE @ErrorState INT = ERROR_STATE();\r\n",
                "    RAISERROR(@ErrorMessage, @ErrorSeverity, @ErrorState);\r\n",
                "END CATCH;\r\n",
                ""
            ],
            "metadata": {
                "azdata_cell_guid": "0d087228-6d6f-4baa-b73b-157764793b73"
            },
            "outputs": [],
            "execution_count": null
        },
        {
            "cell_type": "markdown",
            "source": [
                "Query data from table"
            ],
            "metadata": {
                "azdata_cell_guid": "6e1fb4c8-71ad-46eb-a220-831b90e5ab9b"
            }
        },
        {
            "cell_type": "code",
            "source": [
                "SELECT TOP (1000) [year]\r\n",
                "      ,[month]\r\n",
                "      ,[carrier]\r\n",
                "      ,[carrier_name]\r\n",
                "      ,[airport]\r\n",
                "      ,[airport_name]\r\n",
                "      ,[arr_flights]\r\n",
                "      ,[arr_del15]\r\n",
                "      ,[carrier_ct]\r\n",
                "      ,[weather_ct]\r\n",
                "      ,[nas_ct]\r\n",
                "      ,[security_ct]\r\n",
                "      ,[late_aircraft_ct]\r\n",
                "      ,[arr_cancelled]\r\n",
                "      ,[arr_diverted]\r\n",
                "      ,[arr_delay]\r\n",
                "      ,[carrier_delay]\r\n",
                "      ,[weather_delay]\r\n",
                "      ,[nas_delay]\r\n",
                "      ,[security_delay]\r\n",
                "      ,[late_aircraft_delay]\r\n",
                "      ,[column22]\r\n",
                "  FROM [externalDB].[dbo].[airline_delay_causes]"
            ],
            "metadata": {
                "azdata_cell_guid": "987f0836-34ef-4248-a4b5-00928f3f1fe8"
            },
            "outputs": [],
            "execution_count": null
        },
        {
            "cell_type": "markdown",
            "source": [
                " Drop the table and database (for cleanup purposes)"
            ],
            "metadata": {
                "azdata_cell_guid": "3412e43d-604a-47ad-844c-d8b556844ef6"
            }
        },
        {
            "cell_type": "code",
            "source": [
                "IF  EXISTS (SELECT * FROM sys.objects WHERE object_id = OBJECT_ID(N'[importedData].[students]') AND type in (N'U'))\r\n",
                "DROP EXTERNAL TABLE [importedData].[students]\r\n",
                "GO\r\n",
                "\r\n",
                "USE master;\r\n",
                "GO\r\n",
                "\r\n",
                "ALTER DATABASE externalDB SET SINGLE_USER WITH ROLLBACK IMMEDIATE;\r\n",
                "GO\r\n",
                "\r\n",
                "DROP DATABASE externalDB;\r\n",
                "GO"
            ],
            "metadata": {
                "azdata_cell_guid": "b4a343d0-6228-4229-8a38-2a6ad88c23dc"
            },
            "outputs": [],
            "execution_count": null
        }
    ]
}