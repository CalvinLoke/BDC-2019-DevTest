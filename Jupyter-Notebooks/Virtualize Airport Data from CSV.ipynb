{
    "metadata": {
        "kernelspec": {
            "name": "SQL",
            "display_name": "SQL",
            "language": "sql"
        },
        "language_info": {
            "name": "sql",
            "version": ""
        }
    },
    "nbformat_minor": 2,
    "nbformat": 4,
    "cells": [
        {
            "cell_type": "markdown",
            "source": [
                "Create external database"
            ],
            "metadata": {
                "azdata_cell_guid": "69fe236b-e464-4b94-99ab-89540b650bc9"
            }
        },
        {
            "cell_type": "code",
            "source": [
                "IF NOT EXISTS (SELECT * FROM master.dbo.sysdatabases WHERE name = 'externalDB')\r\n",
                "    BEGIN\r\n",
                "        CREATE DATABASE externalDB\r\n",
                "END;\r\n",
                "\r\n",
                "SELECT * FROM master.dbo.sysdatabases WHERE name = 'externalDB';\r\n",
                "USE externalDB;\r\n",
                "GO"
            ],
            "metadata": {
                "azdata_cell_guid": "bf18c000-8178-46e9-b845-87e7761f3886",
                "tags": []
            },
            "outputs": [
                {
                    "output_type": "display_data",
                    "data": {
                        "text/html": "(1 row affected)"
                    },
                    "metadata": {}
                },
                {
                    "output_type": "display_data",
                    "data": {
                        "text/html": "Total execution time: 00:00:01.345"
                    },
                    "metadata": {}
                },
                {
                    "output_type": "execute_result",
                    "metadata": {},
                    "execution_count": 12,
                    "data": {
                        "application/vnd.dataresource+json": {
                            "schema": {
                                "fields": [
                                    {
                                        "name": "name"
                                    },
                                    {
                                        "name": "dbid"
                                    },
                                    {
                                        "name": "sid"
                                    },
                                    {
                                        "name": "mode"
                                    },
                                    {
                                        "name": "status"
                                    },
                                    {
                                        "name": "status2"
                                    },
                                    {
                                        "name": "crdate"
                                    },
                                    {
                                        "name": "reserved"
                                    },
                                    {
                                        "name": "category"
                                    },
                                    {
                                        "name": "cmptlevel"
                                    },
                                    {
                                        "name": "filename"
                                    },
                                    {
                                        "name": "version"
                                    }
                                ]
                            },
                            "data": [
                                {
                                    "0": "externalDB",
                                    "1": "9",
                                    "2": "0x40342F955279EF45AECE10823C41B8CD",
                                    "3": "0",
                                    "4": "65536",
                                    "5": "1627389952",
                                    "6": "2020-11-30 11:28:17.290",
                                    "7": "1900-01-01 00:00:00.000",
                                    "8": "0",
                                    "9": "150",
                                    "10": "/var/opt/mssql/data/externalDB.mdf",
                                    "11": "904"
                                }
                            ]
                        },
                        "text/html": [
                            "<table>",
                            "<tr><th>name</th><th>dbid</th><th>sid</th><th>mode</th><th>status</th><th>status2</th><th>crdate</th><th>reserved</th><th>category</th><th>cmptlevel</th><th>filename</th><th>version</th></tr>",
                            "<tr><td>externalDB</td><td>9</td><td>0x40342F955279EF45AECE10823C41B8CD</td><td>0</td><td>65536</td><td>1627389952</td><td>2020-11-30 11:28:17.290</td><td>1900-01-01 00:00:00.000</td><td>0</td><td>150</td><td>/var/opt/mssql/data/externalDB.mdf</td><td>904</td></tr>",
                            "</table>"
                        ]
                    }
                }
            ],
            "execution_count": 12
        },
        {
            "cell_type": "markdown",
            "source": [
                "Create master key"
            ],
            "metadata": {
                "azdata_cell_guid": "ee0fd142-e1cb-41de-a2e0-7794e8fe3e7a"
            }
        },
        {
            "cell_type": "code",
            "source": [
                "CREATE MASTER KEY ENCRYPTION BY PASSWORD = 'Password1234';"
            ],
            "metadata": {
                "azdata_cell_guid": "82dde924-bac9-4918-a754-ac88386fa42f",
                "tags": []
            },
            "outputs": [
                {
                    "output_type": "display_data",
                    "data": {
                        "text/html": "Commands completed successfully."
                    },
                    "metadata": {}
                },
                {
                    "output_type": "display_data",
                    "data": {
                        "text/html": "Total execution time: 00:00:00.045"
                    },
                    "metadata": {}
                }
            ],
            "execution_count": 13
        },
        {
            "cell_type": "markdown",
            "source": [
                "Create external data source"
            ],
            "metadata": {
                "azdata_cell_guid": "83669482-f4d0-4aea-a5de-bf97f00ec895"
            }
        },
        {
            "cell_type": "code",
            "source": [
                "IF NOT EXISTS(SELECT * FROM sys.external_data_sources WHERE name = 'SqlStoragePool')\r\n",
                "    CREATE EXTERNAL DATA SOURCE SqlStoragePool\r\n",
                "    WITH (LOCATION = 'sqlhdfs://controller-svc/default');"
            ],
            "metadata": {
                "azdata_cell_guid": "ef1586f3-6267-4c8f-8313-1227d08405cc"
            },
            "outputs": [
                {
                    "output_type": "display_data",
                    "data": {
                        "text/html": "Commands completed successfully."
                    },
                    "metadata": {}
                },
                {
                    "output_type": "display_data",
                    "data": {
                        "text/html": "Total execution time: 00:00:01.002"
                    },
                    "metadata": {}
                }
            ],
            "execution_count": 14
        },
        {
            "cell_type": "markdown",
            "source": [
                "Create external table"
            ],
            "metadata": {
                "azdata_cell_guid": "9a6442b4-b1fa-400a-bd49-624889ba1f48"
            }
        },
        {
            "cell_type": "code",
            "source": [
                "BEGIN TRY\r\n",
                "    BEGIN TRANSACTION T3ac3ae894a2e4b7fab8d07ea5beb86d\r\n",
                "        USE [externalDB];\r\n",
                "        CREATE EXTERNAL FILE FORMAT [monthlyArrivals]\r\n",
                "            WITH (FORMAT_TYPE = DELIMITEDTEXT, FORMAT_OPTIONS (FIELD_TERMINATOR = N',', STRING_DELIMITER = N'\"', FIRST_ROW = 2));\r\n",
                "        CREATE EXTERNAL TABLE [dbo].[monthlyArrivals]\r\n",
                "        (\r\n",
                "            [month] nvarchar(50) NOT NULL,\r\n",
                "            [Total_Aircraft_Arrivals_And_Departures] smallint NOT NULL,\r\n",
                "            [Total_Passengers] int NOT NULL\r\n",
                "        )\r\n",
                "        WITH (LOCATION = N'/Airport_CSV_Data/civil-aircraft-arrivals-departures-and-passengers-changi-airport-monthly-modified.csv', DATA_SOURCE = [SqlStoragePool], FILE_FORMAT = [monthlyArrivals]);\r\n",
                "    COMMIT TRANSACTION T3ac3ae894a2e4b7fab8d07ea5beb86d\r\n",
                "END TRY\r\n",
                "BEGIN CATCH\r\n",
                "    IF @@TRANCOUNT > 0\r\n",
                "        ROLLBACK TRANSACTION T3ac3ae894a2e4b7fab8d07ea5beb86d\r\n",
                "    DECLARE @ErrorMessage NVARCHAR(max) = ERROR_MESSAGE();\r\n",
                "    DECLARE @ErrorSeverity INT = ERROR_SEVERITY();\r\n",
                "    DECLARE @ErrorState INT = ERROR_STATE();\r\n",
                "    RAISERROR(@ErrorMessage, @ErrorSeverity, @ErrorState);\r\n",
                "END CATCH;\r\n",
                ""
            ],
            "metadata": {
                "azdata_cell_guid": "0d087228-6d6f-4baa-b73b-157764793b73"
            },
            "outputs": [
                {
                    "output_type": "display_data",
                    "data": {
                        "text/html": "Commands completed successfully."
                    },
                    "metadata": {}
                },
                {
                    "output_type": "display_data",
                    "data": {
                        "text/html": "Total execution time: 00:00:00.281"
                    },
                    "metadata": {}
                }
            ],
            "execution_count": 16
        },
        {
            "cell_type": "markdown",
            "source": [
                "Query data from table"
            ],
            "metadata": {
                "azdata_cell_guid": "6e1fb4c8-71ad-46eb-a220-831b90e5ab9b"
            }
        },
        {
            "cell_type": "code",
            "source": [
                "SELECT TOP (1000) [month]\r\n",
                "      ,[Total_Aircraft_Arrivals_And_Departures]\r\n",
                "      ,[Total_Passengers]\r\n",
                "  FROM [externalDB].[dbo].[monthlyArrivals]"
            ],
            "metadata": {
                "azdata_cell_guid": "987f0836-34ef-4248-a4b5-00928f3f1fe8"
            },
            "outputs": [
                {
                    "output_type": "error",
                    "evalue": "Msg 105082, Level 16, State 1, Line 1\r\n105082;Generic ODBC error: [Microsoft][ODBC Driver 17 for SQL Server][SQL Server]Bulk load data conversion error (overflow) for row 457, column 2 (Total_Aircraft_Arrivals_And_Departures). .",
                    "ename": "",
                    "traceback": []
                },
                {
                    "output_type": "display_data",
                    "data": {
                        "text/html": "OLE DB provider \"MSOLEDBSQL\" for linked server \"(null)\" returned message \"Unspecified error\"."
                    },
                    "metadata": {}
                },
                {
                    "output_type": "error",
                    "evalue": "Msg 7421, Level 16, State 2, Line 1\r\nCannot fetch the rowset from OLE DB provider \"MSOLEDBSQL\" for linked server \"(null)\". .",
                    "ename": "",
                    "traceback": []
                },
                {
                    "output_type": "display_data",
                    "data": {
                        "text/html": "Total execution time: 00:00:00.912"
                    },
                    "metadata": {}
                },
                {
                    "output_type": "execute_result",
                    "metadata": {},
                    "execution_count": 17,
                    "data": {
                        "application/vnd.dataresource+json": {
                            "schema": {
                                "fields": [
                                    {
                                        "name": "month"
                                    },
                                    {
                                        "name": "Total_Aircraft_Arrivals_And_Departures"
                                    },
                                    {
                                        "name": "Total_Passengers"
                                    }
                                ]
                            },
                            "data": []
                        },
                        "text/html": [
                            "<table>",
                            "<tr><th>month</th><th>Total_Aircraft_Arrivals_And_Departures</th><th>Total_Passengers</th></tr>",
                            "</table>"
                        ]
                    }
                }
            ],
            "execution_count": 17
        },
        {
            "cell_type": "markdown",
            "source": [
                " Drop the table and database (for cleanup purposes)"
            ],
            "metadata": {
                "azdata_cell_guid": "3412e43d-604a-47ad-844c-d8b556844ef6"
            }
        },
        {
            "cell_type": "code",
            "source": [
                "IF  EXISTS (SELECT * FROM sys.objects WHERE object_id = OBJECT_ID(N'[dbo].[monthlyArrivals]') AND type in (N'U'))\r\n",
                "DROP EXTERNAL TABLE [dbo].[monthlyArrivals]\r\n",
                "GO"
            ],
            "metadata": {
                "azdata_cell_guid": "b4a343d0-6228-4229-8a38-2a6ad88c23dc"
            },
            "outputs": [
                {
                    "output_type": "display_data",
                    "data": {
                        "text/html": "Commands completed successfully."
                    },
                    "metadata": {}
                },
                {
                    "output_type": "display_data",
                    "data": {
                        "text/html": "Total execution time: 00:00:00.018"
                    },
                    "metadata": {}
                }
            ],
            "execution_count": 7
        }
    ]
}