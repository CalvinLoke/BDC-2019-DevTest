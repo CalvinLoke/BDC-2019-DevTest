{
    "metadata": {
        "kernelspec": {
            "name": "pysparkkernel",
            "display_name": "PySpark",
            "language": ""
        },
        "language_info": {
            "name": "pyspark",
            "mimetype": "text/x-python",
            "codemirror_mode": {
                "name": "python",
                "version": 3
            },
            "pygments_lexer": "python3"
        }
    },
    "nbformat_minor": 2,
    "nbformat": 4,
    "cells": [
        {
            "cell_type": "code",
            "source": [
                "results = spark.read.option(\"inferSchema\", \"true\").csv('/product_review_data').toDF(\"Item_ID\", \"Review\")"
            ],
            "metadata": {
                "azdata_cell_guid": "8785acd0-3ab4-4074-93d9-f8e727f91ba6"
            },
            "outputs": [],
            "execution_count": null
        },
        {
            "cell_type": "code",
            "source": [
                "results.write.format(\"parquet\").mode(\"overwrite\").saveAsTable(\"Top_Product_Reviews\")"
            ],
            "metadata": {
                "azdata_cell_guid": "2627b8b5-67b2-45e6-b079-774e38cf398b"
            },
            "outputs": [],
            "execution_count": null
        },
        {
            "cell_type": "code",
            "source": [
                "sqlDF = spark.sql(\"SELECT * FROM Top_Product_Reviews LIMIT 10\")\r\n",
                "sqlDF.show()"
            ],
            "metadata": {
                "azdata_cell_guid": "6e017262-e212-41e7-a615-b9d837b70ca4"
            },
            "outputs": [],
            "execution_count": null
        }
    ]
}