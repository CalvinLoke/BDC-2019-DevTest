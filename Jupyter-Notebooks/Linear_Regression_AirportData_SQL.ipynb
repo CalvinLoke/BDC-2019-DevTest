{
    "metadata": {
        "kernelspec": {
            "name": "python3",
            "display_name": "Python 3"
        },
        "language_info": {
            "name": "python",
            "version": "3.6.6",
            "mimetype": "text/x-python",
            "codemirror_mode": {
                "name": "ipython",
                "version": 3
            },
            "pygments_lexer": "ipython3",
            "nbconvert_exporter": "python",
            "file_extension": ".py"
        }
    },
    "nbformat_minor": 2,
    "nbformat": 4,
    "cells": [
        {
            "cell_type": "code",
            "source": [
                "#import libraries\n",
                "import pandas\n",
                "\n",
                "from sklearn.linear_model import LinearRegression\n",
                "from sklearn.metrics import mean_squared_error, r2_score\n",
                "from sklearn.model_selection import train_test_split\n",
                "\n",
                "import matplotlib.pyplot as plt\n",
                "\n",
                "import sqlmlutils\n",
                "\n",
                "import pyodbc\n",
                "\n",
                "import pickle"
            ],
            "metadata": {
                "azdata_cell_guid": "1180c578-81a8-43d3-9601-2e7e911e76a1",
                "tags": []
            },
            "outputs": [],
            "execution_count": 45
        },
        {
            "cell_type": "code",
            "source": [
                "#import data\n",
                "\n",
                "conn_str = pyodbc.connect('DRIVER={ODBC Driver 17 for SQL Server}; SERVER=10.10.0.104,31433; DATABASE=externalDB;UID=admin;PWD=Password1234')\n",
                "\n",
                "query_str = 'SELECT * FROM [externalDB].[dbo].[data]'\n",
                "\n",
                "raw_dataframe = pandas.read_sql(sql=query_str, con=conn_str)\n",
                "\n",
                "print(\"Dataframe: \")\n",
                "print(raw_dataframe)\n",
                ""
            ],
            "metadata": {
                "scrolled": true,
                "azdata_cell_guid": "9736a107-aa5c-40d8-a798-59fae6536152",
                "tags": []
            },
            "outputs": [
                {
                    "name": "stdout",
                    "text": "Dataframe: \n        time  year month_no  total_traffic  total_passengers  total_mail\n0    1980-01  1980       01           6501            566879         619\n1    1980-02  1980       02           6112            552263         593\n2    1980-03  1980       03           6391            597644         642\n3    1980-04  1980       04           6247            561218         642\n4    1980-05  1980       05           6301            587003         646\n..       ...   ...      ...            ...               ...         ...\n482  2020-03  2020       03          16223           1649662        2558\n483  2020-04  2020       04           3865             25189         931\n484  2020-05  2020       05           4472             24504        1633\n485  2020-06  2020       06           4779             48241        2496\n486  2020-07  2020       07           5247             85981        3054\n\n[487 rows x 6 columns]\n",
                    "output_type": "stream"
                }
            ],
            "execution_count": 46
        },
        {
            "cell_type": "code",
            "source": [
                "#Observing the relationship between dependent variable and time\n",
                "\n",
                "#custom range\n",
                "custom_range_start = 144    \n",
                "custom_range_stop = 168\n",
                "\n",
                "dependent_variable = ['total_passengers'] \n",
                "dependent_dataset = raw_dataframe[dependent_variable]\n",
                "\n",
                "print(dependent_dataset)\n",
                "\n",
                "dependent_dataset.head(-1)[custom_range_start:custom_range_stop].plot() #modify this value to adjust number of rows returned"
            ],
            "metadata": {
                "scrolled": true,
                "azdata_cell_guid": "929d42d6-eea4-4b56-84c5-4dfd1f067f5b",
                "tags": []
            },
            "outputs": [
                {
                    "name": "stdout",
                    "text": "     total_passengers\n0              566879\n1              552263\n2              597644\n3              561218\n4              587003\n..                ...\n482           1649662\n483             25189\n484             24504\n485             48241\n486             85981\n\n[487 rows x 1 columns]\n",
                    "output_type": "stream"
                },
                {
                    "data": {
                        "text/plain": "<Figure size 432x288 with 1 Axes>",
                        "image/png": "[encoded data removed]"
                    },
                    "metadata": {
                        "needs_background": "light"
                    },
                    "output_type": "display_data"
                },
                {
                    "data": {
                        "text/plain": "<AxesSubplot:>"
                    },
                    "metadata": {},
                    "execution_count": 60,
                    "output_type": "execute_result"
                }
            ],
            "execution_count": 60
        },
        {
            "cell_type": "code",
            "source": [
                "# Extract the required data\n",
                "\n",
                "# Refine extraction range use 0 and -1 to extract entire range\n",
                "index_start = 0\n",
                "index_stop = -1\n",
                "\n",
                "independent_variables = ['month_no','total_traffic'] #input any number of variables\n",
                "dependent_variable = ['total_passengers'] #only input one variable\n",
                "\n",
                "independent_dataset = raw_dataframe[independent_variables][index_start:index_stop]\n",
                "dependent_dataset = raw_dataframe[dependent_variable][index_start:index_stop]\n",
                "\n",
                "# Further splitting dataset into training and testing subsets\n",
                "test_ratio=0.2 #splits the data into testing and training sets with ratio 0.2\n",
                "indp_train_set, indp_test_set, dep_train_set, dep_test_set = train_test_split(independent_dataset, \n",
                "                                                                              dependent_dataset, \n",
                "                                                                              test_size=test_ratio)\n",
                "\n",
                "print(indp_train_set) #outputs the generated test set"
            ],
            "metadata": {
                "azdata_cell_guid": "84eba4f0-a696-457d-99fd-6cccddb714ef",
                "tags": []
            },
            "outputs": [
                {
                    "name": "stdout",
                    "text": "    month_no  total_traffic\n354       01          14684\n68        09           6139\n285       04          10001\n183       10          18398\n398       09          14818\n..       ...            ...\n380       03          14517\n395       06          15092\n344       03          14593\n360       07          13782\n469       02          29894\n\n[388 rows x 2 columns]\n",
                    "output_type": "stream"
                }
            ],
            "execution_count": 48
        },
        {
            "cell_type": "code",
            "source": [
                "# Create regression object and train model\n",
                "linear_model = LinearRegression()\n",
                "linear_model.fit(indp_train_set, dep_train_set)\n",
                "\n",
                "print(\"Coefficients:\", linear_model.coef_)\n",
                "print(\"Intercept:\", linear_model.intercept_)\n",
                "\n",
                "linear_predictions = linear_model.predict(independent_dataset)\n",
                "predictions_dataframe = pandas.DataFrame(linear_predictions)\n",
                "\n",
                "trained_model = pickle.dumps(linear_model)"
            ],
            "metadata": {
                "azdata_cell_guid": "e4e41e5a-faa9-49a9-add8-1b054abac942",
                "tags": []
            },
            "outputs": [
                {
                    "name": "stdout",
                    "text": "Coefficients: [[13921.89521511   173.27697313]]\nIntercept: [-350853.52376184]\n",
                    "output_type": "stream"
                }
            ],
            "execution_count": 55
        },
        {
            "cell_type": "code",
            "source": [
                "# Compare predictions\r\n",
                "print(\"Model score (Higher is better): \", linear_model.score(indp_test_set, dep_test_set))"
            ],
            "metadata": {
                "azdata_cell_guid": "b09bc098-34df-493a-b171-9c0e8a36087f"
            },
            "outputs": [
                {
                    "name": "stdout",
                    "text": "Model score (Higher is better):  0.9842385790381831\n",
                    "output_type": "stream"
                }
            ],
            "execution_count": 62
        }
    ]
}