{
    "metadata": {
        "kernelspec": {
            "name": "python3",
            "display_name": "Python 3",
            "language": "python"
        },
        "language_info": {
            "name": "python",
            "version": "3.8.5",
            "mimetype": "text/x-python",
            "codemirror_mode": {
                "name": "ipython",
                "version": 3
            },
            "pygments_lexer": "ipython3",
            "nbconvert_exporter": "python",
            "file_extension": ".py"
        }
    },
    "nbformat_minor": 2,
    "nbformat": 4,
    "cells": [
        {
            "cell_type": "code",
            "source": [
                "#import libraries\n",
                "import pandas\n",
                "\n",
                "from sklearn.linear_model import LinearRegression\n",
                "from sklearn.metrics import mean_squared_error, r2_score\n",
                "from sklearn.model_selection import train_test_split\n",
                "\n",
                "import matplotlib.pyplot as plt\n",
                "\n",
                "import numpy as np\n",
                "\n",
                "import pyodbc"
            ],
            "metadata": {
                "azdata_cell_guid": "1180c578-81a8-43d3-9601-2e7e911e76a1",
                "tags": []
            },
            "outputs": [],
            "execution_count": null
        },
        {
            "cell_type": "code",
            "source": [
                "#import data\n",
                "\n",
                "conn_str = pyodbc.connect('DRIVER={ODBC Driver 17 for SQL Server}; SERVER=10.10.0.104,31433; DATABASE=externalDB;UID=admin;PWD=Password1234')\n",
                "\n",
                "query_str = 'SELECT * FROM [externalDB].[dbo].[data]'\n",
                "\n",
                "raw_dataframe = pandas.read_sql(sql=query_str, con=conn_str)\n",
                "\n",
                "print(\"Dataframe: \")\n",
                "print(raw_dataframe)\n",
                ""
            ],
            "metadata": {
                "scrolled": true,
                "azdata_cell_guid": "9736a107-aa5c-40d8-a798-59fae6536152",
                "tags": []
            },
            "outputs": [],
            "execution_count": null
        },
        {
            "cell_type": "code",
            "source": [
                "#Observing the relationship between dependent variable and time\n",
                "\n",
                "#custom range\n",
                "custom_range_start = 144    \n",
                "custom_range_stop = 168\n",
                "\n",
                "dependent_variable = ['total_passengers'] \n",
                "dependent_dataset = raw_dataframe[dependent_variable]\n",
                "\n",
                "print(dependent_dataset)\n",
                "\n",
                "dependent_dataset.head(-1)[custom_range_start:custom_range_stop].plot() #modify this value to adjust number of rows returned"
            ],
            "metadata": {
                "scrolled": true,
                "azdata_cell_guid": "929d42d6-eea4-4b56-84c5-4dfd1f067f5b",
                "tags": []
            },
            "outputs": [],
            "execution_count": null
        },
        {
            "cell_type": "code",
            "source": [
                "# Extract the required data\n",
                "\n",
                "# Refine extraction range use 0 and -1 to extract entire range\n",
                "index_start = 0\n",
                "index_stop = -1\n",
                "\n",
                "independent_variables = ['month_no','total_traffic'] #input any number of variables\n",
                "dependent_variable = ['total_passengers'] #only input one variable\n",
                "\n",
                "independent_dataset = raw_dataframe[independent_variables][index_start:index_stop]\n",
                "dependent_dataset = raw_dataframe[dependent_variable][index_start:index_stop]\n",
                "\n",
                "# Further splitting dataset into training and testing subsets\n",
                "test_ratio=0.2 #splits the data into testing and training sets with ratio 0.2\n",
                "indp_train_set, indp_test_set, dep_train_set, dep_test_set = train_test_split(independent_dataset, \n",
                "                                                                              dependent_dataset, \n",
                "                                                                              test_size=test_ratio)\n",
                "\n",
                "print(indp_train_set) #outputs the generated test set"
            ],
            "metadata": {
                "azdata_cell_guid": "84eba4f0-a696-457d-99fd-6cccddb714ef",
                "tags": []
            },
            "outputs": [],
            "execution_count": null
        },
        {
            "cell_type": "code",
            "source": [
                "# Create regression object and train model\n",
                "linear_model = LinearRegression()\n",
                "linear_model.fit(indp_train_set, dep_train_set)\n",
                "print(\"Coefficients:\", linear_model.coef_)\n",
                "print(\"Intercept:\", linear_model.intercept_)"
            ],
            "metadata": {
                "azdata_cell_guid": "e4e41e5a-faa9-49a9-add8-1b054abac942",
                "tags": []
            },
            "outputs": [],
            "execution_count": null
        },
        {
            "cell_type": "code",
            "source": [
                "# Generate predictions\n",
                "linear_predictions = linear_model.predict(indp_test_set)\n",
                "linear_predictions"
            ],
            "metadata": {
                "azdata_cell_guid": "540a1d14-7327-4797-bf6c-1f8d5a099a29",
                "tags": []
            },
            "outputs": [],
            "execution_count": null
        },
        {
            "cell_type": "code",
            "source": [
                "# Compare predictions\n",
                "print(\"Model score: \", linear_model.score(indp_test_set, dep_test_set))"
            ],
            "metadata": {
                "azdata_cell_guid": "ba4f7f03-0c33-473b-92e5-676ac40235f2",
                "tags": []
            },
            "outputs": [],
            "execution_count": null
        },
        {
            "cell_type": "code",
            "source": [
                "# Custom predicitons \n",
                "linear_model.predict( [['<variable0>','<variable1>']] ) #adjust depending on number of inputs "
            ],
            "metadata": {
                "azdata_cell_guid": "b19131e1-8005-4472-9736-1dba5dad9cb9",
                "tags": []
            },
            "outputs": [],
            "execution_count": null
        }
    ]
}