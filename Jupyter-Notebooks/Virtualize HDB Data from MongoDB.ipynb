{
    "metadata": {
        "kernelspec": {
            "name": "SQL",
            "display_name": "SQL",
            "language": "sql"
        },
        "language_info": {
            "name": "sql",
            "version": ""
        }
    },
    "nbformat_minor": 2,
    "nbformat": 4,
    "cells": [
        {
            "cell_type": "markdown",
            "source": [
                "Creating a new database"
            ],
            "metadata": {
                "azdata_cell_guid": "1b2cc3d0-3f7b-449e-8e8e-490345be923c"
            }
        },
        {
            "cell_type": "code",
            "source": [
                "IF NOT EXISTS (SELECT * FROM master.dbo.sysdatabases WHERE name = 'externalDB')\r\n",
                "    BEGIN\r\n",
                "        CREATE DATABASE externalDB\r\n",
                "END;\r\n",
                "SELECT * FROM sys.databases;\r\n",
                "GO\r\n",
                "USE externalDB;\r\n",
                "GO"
            ],
            "metadata": {
                "azdata_cell_guid": "b8560ce0-f81c-48b7-b4ac-b93eaafe89fc",
                "tags": []
            },
            "outputs": [],
            "execution_count": null
        },
        {
            "cell_type": "markdown",
            "source": [
                "Create a master key in the database"
            ],
            "metadata": {
                "azdata_cell_guid": "d683ddce-7feb-4921-8227-5a82cae52054"
            }
        },
        {
            "cell_type": "code",
            "source": [
                "CREATE MASTER KEY ENCRYPTION BY PASSWORD = 'Password1234';"
            ],
            "metadata": {
                "azdata_cell_guid": "89c73551-bc58-47a1-a650-f481f7d59bfa"
            },
            "outputs": [],
            "execution_count": null
        },
        {
            "cell_type": "markdown",
            "source": [
                "Create a scoped credential for MongoDB (with login credentials)"
            ],
            "metadata": {
                "azdata_cell_guid": "c594b9b1-c711-49a3-9cec-9442a2415f3a"
            }
        },
        {
            "cell_type": "code",
            "source": [
                "CREATE DATABASE SCOPED CREDENTIAL MongoDB\r\n",
                "WITH IDENTITY = 'root', SECRET = 'password123'"
            ],
            "metadata": {
                "azdata_cell_guid": "a66075c8-bac2-4922-bbfa-c8881183d226",
                "tags": []
            },
            "outputs": [],
            "execution_count": null
        },
        {
            "cell_type": "markdown",
            "source": [
                "Create external data source using MongoDB login credentials"
            ],
            "metadata": {
                "azdata_cell_guid": "1f04d077-344f-4a09-a401-d83a2461c0e8"
            }
        },
        {
            "cell_type": "code",
            "source": [
                "CREATE EXTERNAL DATA SOURCE MongoDataSource\r\n",
                "WITH (\r\n",
                "    LOCATION = 'mongodb://10.10.2.218:27017',\r\n",
                "    CREDENTIAL = MongoDB,\r\n",
                "    connection_options = 'UseDefaultEncryptionOptions=false'\r\n",
                ");"
            ],
            "metadata": {
                "azdata_cell_guid": "2af61fa0-9808-4db1-8842-1a1437efd6ee"
            },
            "outputs": [],
            "execution_count": null
        },
        {
            "cell_type": "markdown",
            "source": [
                "(FOR DEBUGGING)\n",
                "\n",
                "Verify that scoped scoped credentials and data sources were created"
            ],
            "metadata": {
                "azdata_cell_guid": "3e51b793-3d8c-4777-82a9-f3c93ace05fc"
            }
        },
        {
            "cell_type": "code",
            "source": [
                "USE externalDB\r\n",
                "SELECT * FROM sys.database_scoped_credentials\r\n",
                "SELECT * FROM sys.external_data_sources"
            ],
            "metadata": {
                "azdata_cell_guid": "05c3ab8a-3b60-4c7b-bde9-1a668bcb3f66",
                "tags": []
            },
            "outputs": [],
            "execution_count": null
        },
        {
            "cell_type": "markdown",
            "source": [
                "Create external table for MongoDB"
            ],
            "metadata": {
                "azdata_cell_guid": "49b79d87-d489-47bf-ba7b-81d6927a493f"
            }
        },
        {
            "cell_type": "code",
            "source": [
                "BEGIN TRY\r\n",
                "    BEGIN TRANSACTION T8c2ce5a2ebc24717ba31a9e954a480c\r\n",
                "        USE [externalDB];\r\n",
                "        CREATE EXTERNAL TABLE [hdb_database_1].[resalePrices]\r\n",
                "        (\r\n",
                "            [_id] NVARCHAR(24) COLLATE SQL_Latin1_General_CP1_CI_AS NOT NULL,\r\n",
                "            [id] INT,\r\n",
                "            [year] INT,\r\n",
                "            [month] INT,\r\n",
                "            [date] NVARCHAR(4000) COLLATE SQL_Latin1_General_CP1_CI_AS,\r\n",
                "            [resale_price] INT\r\n",
                "        )\r\n",
                "        WITH (LOCATION = N'[hdb_database_1].[resalePrices]', DATA_SOURCE = [MongoDataSource]);\r\n",
                "    COMMIT TRANSACTION T8c2ce5a2ebc24717ba31a9e954a480c\r\n",
                "END TRY\r\n",
                "BEGIN CATCH\r\n",
                "    IF @@TRANCOUNT > 0\r\n",
                "        ROLLBACK TRANSACTION T8c2ce5a2ebc24717ba31a9e954a480c\r\n",
                "    DECLARE @ErrorMessage NVARCHAR(max) = ERROR_MESSAGE();\r\n",
                "    DECLARE @ErrorSeverity INT = ERROR_SEVERITY();\r\n",
                "    DECLARE @ErrorState INT = ERROR_STATE();\r\n",
                "    RAISERROR(@ErrorMessage, @ErrorSeverity, @ErrorState);\r\n",
                "END CATCH;\r\n",
                ""
            ],
            "metadata": {
                "azdata_cell_guid": "366db1d7-f8d1-4ba4-9d06-73da8001f407",
                "tags": []
            },
            "outputs": [],
            "execution_count": null
        },
        {
            "cell_type": "markdown",
            "source": [
                "Data querying from MongoDB external table"
            ],
            "metadata": {
                "azdata_cell_guid": "13d08b01-f3dd-4e28-91e3-73967120e435"
            }
        },
        {
            "cell_type": "code",
            "source": [
                "SELECT TOP (1000) [_id]\r\n",
                "      ,[id]\r\n",
                "      ,[year]\r\n",
                "      ,[month]\r\n",
                "      ,[date]\r\n",
                "      ,[resale_price]\r\n",
                "  FROM [externalDB].[hdb_database_1].[resalePrices]\r\n",
                "  ORDER BY [id] ASC"
            ],
            "metadata": {
                "azdata_cell_guid": "9c8f4d8d-55e7-4337-ba61-5e4bf21783e9"
            },
            "outputs": [],
            "execution_count": null
        },
        {
            "cell_type": "markdown",
            "source": [
                "Create scoped credential for SQL Server"
            ],
            "metadata": {
                "azdata_cell_guid": "aab754e3-82d9-47c1-877e-cdcfe0ac4288"
            }
        },
        {
            "cell_type": "code",
            "source": [
                "CREATE DATABASE SCOPED CREDENTIAL Ext_SQL_Cred\r\n",
                "WITH IDENTITY = 'SA', SECRET = 'Password1234'"
            ],
            "metadata": {
                "azdata_cell_guid": "5d70d703-e483-4d69-b777-8ba2d3e6f555",
                "tags": []
            },
            "outputs": [],
            "execution_count": null
        },
        {
            "cell_type": "markdown",
            "source": [
                "Create data source for SQL Server"
            ],
            "metadata": {
                "azdata_cell_guid": "44111915-b22e-44ca-aa19-9e0d33f6c5ef"
            }
        },
        {
            "cell_type": "code",
            "source": [
                "CREATE EXTERNAL DATA SOURCE Ext_SQL_Source\r\n",
                "WITH (\r\n",
                "    LOCATION = '10.10.0.178:1430',\r\n",
                "    CREDENTIAL = SQL_External,\r\n",
                ");"
            ],
            "metadata": {
                "azdata_cell_guid": "6ee01ee4-de1f-474e-9486-e0dcd8a9ba89"
            },
            "outputs": [],
            "execution_count": null
        },
        {
            "cell_type": "markdown",
            "source": [
                "Create external table for SQL Server"
            ],
            "metadata": {
                "azdata_cell_guid": "1c382276-77ff-438d-8b33-ee6e2eba7402"
            }
        },
        {
            "cell_type": "code",
            "source": [
                "BEGIN TRY\r\n",
                "    BEGIN TRANSACTION T7edfcf36b59240cea61e2bf10c4132d\r\n",
                "        USE [externalDB];\r\n",
                "        CREATE EXTERNAL TABLE [dbo].[remainingLease]\r\n",
                "        (\r\n",
                "            [id] INT NOT NULL,\r\n",
                "            [year] INT NOT NULL,\r\n",
                "            [month] INT NOT NULL,\r\n",
                "            [date] DATETIME2(7) NOT NULL,\r\n",
                "            [lease_commence_date] INT NOT NULL,\r\n",
                "            [remaining_lease] NVARCHAR(50) COLLATE SQL_Latin1_General_CP1_CI_AS NOT NULL,\r\n",
                "            [remaining_lease_months] INT NOT NULL\r\n",
                "        )\r\n",
                "        WITH (LOCATION = N'[hdb_database_2].[dbo].[remainingLease]', DATA_SOURCE = [Ext_SQL_Source]);\r\n",
                "    COMMIT TRANSACTION T7edfcf36b59240cea61e2bf10c4132d\r\n",
                "END TRY\r\n",
                "BEGIN CATCH\r\n",
                "    IF @@TRANCOUNT > 0\r\n",
                "        ROLLBACK TRANSACTION T7edfcf36b59240cea61e2bf10c4132d\r\n",
                "    DECLARE @ErrorMessage NVARCHAR(max) = ERROR_MESSAGE();\r\n",
                "    DECLARE @ErrorSeverity INT = ERROR_SEVERITY();\r\n",
                "    DECLARE @ErrorState INT = ERROR_STATE();\r\n",
                "    RAISERROR(@ErrorMessage, @ErrorSeverity, @ErrorState);\r\n",
                "END CATCH;\r\n",
                ""
            ],
            "metadata": {
                "azdata_cell_guid": "13032c32-3705-4179-92ab-6977e73eec70"
            },
            "outputs": [],
            "execution_count": null
        },
        {
            "cell_type": "markdown",
            "source": [
                "Query data from external SQL Server table"
            ],
            "metadata": {
                "azdata_cell_guid": "b896e488-229c-4e6e-9438-b383f0c1d3bf"
            }
        },
        {
            "cell_type": "code",
            "source": [
                "SELECT TOP (1000) [id]\r\n",
                "      ,[year]\r\n",
                "      ,[month]\r\n",
                "      ,[date]\r\n",
                "      ,[lease_commence_date]\r\n",
                "      ,[remaining_lease]\r\n",
                "      ,[remaining_lease_months]\r\n",
                "  FROM [externalDB].[dbo].[remainingLease]\r\n",
                "  ORDER BY [id] ASC"
            ],
            "metadata": {
                "azdata_cell_guid": "ba1b0115-dc00-417b-a519-14dfda0d1e7a"
            },
            "outputs": [],
            "execution_count": null
        },
        {
            "cell_type": "markdown",
            "source": [
                "Create external table for CSV file (HDFS)"
            ],
            "metadata": {
                "azdata_cell_guid": "99cee484-60bf-43e8-9858-b619614cffbd"
            }
        },
        {
            "cell_type": "code",
            "source": [
                "BEGIN TRY\r\n",
                "    BEGIN TRANSACTION Ta20dc7c52cbc4b168f681e59a1f645b\r\n",
                "        USE [externalDB];\r\n",
                "        CREATE EXTERNAL FILE FORMAT [FileFormat_resale-prices-4]\r\n",
                "            WITH (FORMAT_TYPE = DELIMITEDTEXT, FORMAT_OPTIONS (FIELD_TERMINATOR = N',', STRING_DELIMITER = N'\"', FIRST_ROW = 2));\r\n",
                "        CREATE EXTERNAL TABLE [dbo].[hdbAddress]\r\n",
                "        (\r\n",
                "            [id] INT NOT NULL,\r\n",
                "            [year] smallint NOT NULL,\r\n",
                "            [month] tinyint NOT NULL,\r\n",
                "            [date] nvarchar(50) NOT NULL,\r\n",
                "            [town] nvarchar(50) NOT NULL,\r\n",
                "            [flat_type] nvarchar(50) NOT NULL,\r\n",
                "            [block] nvarchar(50) NOT NULL,\r\n",
                "            [street_name] nvarchar(50) NOT NULL,\r\n",
                "            [storey_range] nvarchar(50) NOT NULL,\r\n",
                "            [floor_area_sqm] float NOT NULL,\r\n",
                "            [flat_model] nvarchar(50) NOT NULL\r\n",
                "        )\r\n",
                "        WITH (LOCATION = N'/hdb_csv_files/resale-prices-3.csv', DATA_SOURCE = [SqlStoragePool], FILE_FORMAT = [FileFormat_resale-prices-3]);\r\n",
                "    COMMIT TRANSACTION Ta20dc7c52cbc4b168f681e59a1f645b\r\n",
                "END TRY\r\n",
                "BEGIN CATCH\r\n",
                "    IF @@TRANCOUNT > 0\r\n",
                "        ROLLBACK TRANSACTION Ta20dc7c52cbc4b168f681e59a1f645b\r\n",
                "    DECLARE @ErrorMessage NVARCHAR(max) = ERROR_MESSAGE();\r\n",
                "    DECLARE @ErrorSeverity INT = ERROR_SEVERITY();\r\n",
                "    DECLARE @ErrorState INT = ERROR_STATE();\r\n",
                "    RAISERROR(@ErrorMessage, @ErrorSeverity, @ErrorState);\r\n",
                "END CATCH;\r\n",
                ""
            ],
            "metadata": {
                "azdata_cell_guid": "2302ef00-aa61-44b4-9b8f-acd5504cb816"
            },
            "outputs": [],
            "execution_count": null
        },
        {
            "cell_type": "markdown",
            "source": [
                "Query data from external table (HDFS CSV)"
            ],
            "metadata": {
                "azdata_cell_guid": "2632c1dd-3561-419e-9527-7267df9afc74"
            }
        },
        {
            "cell_type": "code",
            "source": [
                "SELECT TOP (1000) [id]\r\n",
                "      ,[year]\r\n",
                "      ,[month]\r\n",
                "      ,[date]\r\n",
                "      ,[town]\r\n",
                "      ,[flat_type]\r\n",
                "      ,[block]\r\n",
                "      ,[street_name]\r\n",
                "      ,[storey_range]\r\n",
                "      ,[floor_area_sqm]\r\n",
                "      ,[flat_model]\r\n",
                "  FROM [externalDB].[dbo].[hdbAddress]\r\n",
                "  ORDER BY [id] ASC"
            ],
            "metadata": {
                "azdata_cell_guid": "c889c6df-05c4-4099-8b99-ce7b16a36c52"
            },
            "outputs": [],
            "execution_count": null
        },
        {
            "cell_type": "markdown",
            "source": [
                "Joining data from the three tables"
            ],
            "metadata": {
                "azdata_cell_guid": "c7852972-0d94-4193-8c6f-dc074a483024"
            }
        },
        {
            "cell_type": "code",
            "source": [
                "USE externalDB\r\n",
                "GO\r\n",
                "\r\n",
                "SELECT TOP (1000)\r\n",
                "[dbo].[hdbAddress].[id], [dbo].[hdbAddress].[year], [dbo].[hdbAddress].[month], [dbo].[hdbAddress].[date],\r\n",
                "[dbo].[hdbAddress].[town], [dbo].[hdbAddress].[flat_type], [dbo].[hdbAddress].[block], [dbo].[hdbAddress].[street_name],\r\n",
                "[dbo].[hdbAddress].[storey_range], [dbo].[hdbAddress].[floor_area_sqm], [dbo].[hdbAddress].[flat_model],\r\n",
                "[dbo].[remainingLease].[lease_commence_date], [dbo].[remainingLease].[remaining_lease], [dbo].[remainingLease].[remaining_lease_months],\r\n",
                "[hdb_database_1].[resalePrices].[resale_price]\r\n",
                "FROM [dbo].[hdbAddress]\r\n",
                "JOIN [dbo].[remainingLease]\r\n",
                "ON [dbo].[hdbAddress].[id] = [dbo].[remainingLease].[id]\r\n",
                "JOIN [hdb_database_1].[resalePrices]\r\n",
                "ON [dbo].[hdbAddress].[id] = [hdb_database_1].[resalePrices].[id]\r\n",
                "ORDER BY [dbo].[hdbAddress].[id] ASC"
            ],
            "metadata": {
                "azdata_cell_guid": "14cc33db-857a-48a0-8f59-3560c4d6512d"
            },
            "outputs": [],
            "execution_count": null
        },
        {
            "cell_type": "markdown",
            "source": [
                "Create a new table to store all the data"
            ],
            "metadata": {
                "azdata_cell_guid": "24b88801-b624-437e-b727-d3abf3ef2416"
            }
        },
        {
            "cell_type": "code",
            "source": [
                "Use externalDB;\r\n",
                "\r\n",
                "CREATE TABLE dbo.hdb_resale_prices(\r\n",
                "    [id] INT NOT NULL PRIMARY KEY,\r\n",
                "    [year] SMALLINT NOT NULL,\r\n",
                "    [month] SMALLINT NOT NULL,\r\n",
                "    [date] VARCHAR(50) NOT NULL,\r\n",
                "    [town] VARCHAR(50) NOT NULL,\r\n",
                "    [flat_type] VARCHAR(50) NOT NULL,\r\n",
                "    [block] VARCHAR(50) NOT NULL,\r\n",
                "    [street_name] VARCHAR(50) NOT NULL,\r\n",
                "    [storey_range] VARCHAR(50) NOT NULL,\r\n",
                "    [floor_area_sqm] FLOAT NOT NULL,\r\n",
                "    [flat_model] VARCHAR(50) NOT NULL,\r\n",
                "    [lease_commence_date] SMALLINT NOT NULL,\r\n",
                "    [remaining_lease] VARCHAR(50) NOT NULL,\r\n",
                "    [remaining_lease_months] INT NOT NULL,\r\n",
                "    [resale_price] INT NOT NULL\r\n",
                ");\r\n",
                "GO"
            ],
            "metadata": {
                "azdata_cell_guid": "3457367b-c797-4b2d-bba7-f8b5df027f51"
            },
            "outputs": [],
            "execution_count": null
        },
        {
            "cell_type": "markdown",
            "source": [
                "Insert data into new table"
            ],
            "metadata": {
                "azdata_cell_guid": "9a6f8f9a-61c0-4700-ab00-86c29f914b70"
            }
        },
        {
            "cell_type": "code",
            "source": [
                "INSERT INTO [dbo].[hdb_resale_prices]\r\n",
                "SELECT\r\n",
                "[dbo].[hdbAddress].[id], [dbo].[hdbAddress].[year], [dbo].[hdbAddress].[month], [dbo].[hdbAddress].[date],\r\n",
                "[dbo].[hdbAddress].[town], [dbo].[hdbAddress].[flat_type], [dbo].[hdbAddress].[block], [dbo].[hdbAddress].[street_name],\r\n",
                "[dbo].[hdbAddress].[storey_range], [dbo].[hdbAddress].[floor_area_sqm], [dbo].[hdbAddress].[flat_model],\r\n",
                "[dbo].[remainingLease].[lease_commence_date], [dbo].[remainingLease].[remaining_lease], [dbo].[remainingLease].[remaining_lease_months],\r\n",
                "[hdb_database_1].[resalePrices].[resale_price]\r\n",
                "FROM [dbo].[hdbAddress]\r\n",
                "JOIN [dbo].[remainingLease]\r\n",
                "ON [dbo].[hdbAddress].[id] = [dbo].[remainingLease].[id]\r\n",
                "JOIN [hdb_database_1].[resalePrices]\r\n",
                "ON [dbo].[hdbAddress].[id] = [hdb_database_1].[resalePrices].[id] "
            ],
            "metadata": {
                "azdata_cell_guid": "76832ac7-a9f4-441c-8db5-34c2b2bb5836"
            },
            "outputs": [],
            "execution_count": null
        },
        {
            "cell_type": "markdown",
            "source": [
                "Query data from new table"
            ],
            "metadata": {
                "azdata_cell_guid": "8ab9a863-c751-4e53-8a23-c04081b83a26"
            }
        },
        {
            "cell_type": "code",
            "source": [
                "SELECT * FROM [dbo].[hdb_resale_prices]"
            ],
            "metadata": {
                "azdata_cell_guid": "255cd79f-790c-435f-a15a-4d4123e3f1d9"
            },
            "outputs": [],
            "execution_count": null
        },
        {
            "cell_type": "markdown",
            "source": [
                "Clean up"
            ],
            "metadata": {
                "azdata_cell_guid": "f13c31b5-4885-4817-a09e-7fdf52fff84a"
            }
        },
        {
            "cell_type": "code",
            "source": [
                "IF  EXISTS (SELECT * FROM sys.objects WHERE object_id = OBJECT_ID(N'[airportData].[mailVolume]') AND type in (N'U'))\r\n",
                "DROP EXTERNAL TABLE [airportData].[mailVolume]\r\n",
                "GO\r\n",
                "IF  EXISTS (SELECT * FROM sys.objects WHERE object_id = OBJECT_ID(N'[dbo].[MonthlyArrivals]') AND type in (N'U'))\r\n",
                "DROP EXTERNAL TABLE [dbo].[MonthlyArrivals]\r\n",
                "GO"
            ],
            "metadata": {
                "azdata_cell_guid": "7d9f7906-06a9-4624-8d6c-298d26b52f22"
            },
            "outputs": [],
            "execution_count": null
        }
    ]
}