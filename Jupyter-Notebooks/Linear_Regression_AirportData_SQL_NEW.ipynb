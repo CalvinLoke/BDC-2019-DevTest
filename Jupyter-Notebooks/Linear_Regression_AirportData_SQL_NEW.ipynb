{
    "metadata": {
        "kernelspec": {
            "name": "SQL",
            "display_name": "SQL",
            "language": "sql"
        },
        "language_info": {
            "name": "sql",
            "version": ""
        }
    },
    "nbformat_minor": 2,
    "nbformat": 4,
    "cells": [
        {
            "cell_type": "code",
            "source": [
                "DROP PROCEDURE IF EXISTS generate_model;\r\n",
                "GO\r\n",
                "\r\n",
                "CREATE PROCEDURE generate_model (@trained_model varbinary(max) OUTPUT)\r\n",
                "AS \r\n",
                "BEGIN    \r\n",
                "    EXECUTE sp_execute_external_script\r\n",
                "            @language = N'Python',\r\n",
                "            @script = N'\r\n",
                "import pandas\r\n",
                "from sklearn.linear_model import LinearRegression\r\n",
                "from sklearn.model_selection import train_test_split\r\n",
                "import pickle\r\n",
                "\r\n",
                "raw_dataframe = input_data\r\n",
                "\r\n",
                "index_start = 0\r\n",
                "index_stop = 9999\r\n",
                "\r\n",
                "independent_variables = [''month_no'',''total_traffic''] #input any number of variables\r\n",
                "dependent_variable = [''total_passengers''] #only input one variable\r\n",
                "\r\n",
                "independent_dataset = raw_dataframe[independent_variables][index_start:index_stop]\r\n",
                "dependent_dataset = raw_dataframe[dependent_variable][index_start:index_stop]\r\n",
                "\r\n",
                "# Further splitting dataset into training and testing subsets\r\n",
                "test_ratio=0.2 #splits the data into testing and training sets with ratio 0.2\r\n",
                "indp_train_set, indp_test_set, dep_train_set, dep_test_set = train_test_split(independent_dataset, \r\n",
                "                                                                              dependent_dataset, \r\n",
                "                                                                              test_size=test_ratio)\r\n",
                "\r\n",
                "linear_model = LinearRegression()\r\n",
                "linear_model.fit(indp_train_set, dep_train_set)\r\n",
                "\r\n",
                "trained_model = pickle.dumps(linear_model)\r\n",
                "'\r\n",
                ", @input_data_1 = N'SELECT * FROM [externalDB].[dbo].[data]'\r\n",
                ", @input_data_1_name = N'input_data'\r\n",
                ", @params = N'@trained_model varbinary(max) OUTPUT'\r\n",
                ", @trained_model = @trained_model OUTPUT;\r\n",
                "END; \r\n",
                "GO"
            ],
            "metadata": {
                "azdata_cell_guid": "4f1e2456-8b55-4e46-8f86-cddf43179e9f",
                "tags": []
            },
            "outputs": [],
            "execution_count": null
        },
        {
            "cell_type": "code",
            "source": [
                "Use externalDB;\r\n",
                "DROP TABLE IF EXISTS dbo.airport_py_models;\r\n",
                "GO\r\n",
                "CREATE TABLE dbo.airport_py_models(\r\n",
                "    model_name VARCHAR(30) NOT NULL DEFAULT('default model') PRIMARY KEY,\r\n",
                "    model VARBINARY(MAX) NOT NULL\r\n",
                ");\r\n",
                "GO"
            ],
            "metadata": {
                "azdata_cell_guid": "6c9ccf80-4983-4ed3-971f-dac442923053",
                "tags": []
            },
            "outputs": [],
            "execution_count": null
        },
        {
            "cell_type": "code",
            "source": [
                "-- Execute if model has not been created\r\n",
                "DECLARE @model VARBINARY(MAX);\r\n",
                "EXECUTE generate_airport_py_model @model OUTPUT;\r\n",
                "\r\n",
                "INSERT INTO [dbo].[airport_py_models] (model_name, model) VALUES ('linear_model', @model)"
            ],
            "metadata": {
                "azdata_cell_guid": "825ae6b1-3d68-4928-9094-1362a45e63d3",
                "tags": []
            },
            "outputs": [],
            "execution_count": null
        },
        {
            "cell_type": "code",
            "source": [
                "--Execute if model has already been created\r\n",
                "DECLARE @model VARBINARY(MAX);\r\n",
                "EXECUTE generate_airport_py_model @model OUTPUT;\r\n",
                "\r\n",
                "UPDATE [dbo].[airport_py_models] SET model_name = 'linear_model', model = @model WHERE model_name = 'linear_model'"
            ],
            "metadata": {
                "azdata_cell_guid": "66d7f324-9590-4ef1-9f01-c6cf0a29745f"
            },
            "outputs": [],
            "execution_count": null
        },
        {
            "cell_type": "code",
            "source": [
                "SELECT model FROM dbo.airport_py_models WHERE model_name = 'linear_model'"
            ],
            "metadata": {
                "azdata_cell_guid": "6b58c129-f1c1-4e9d-a9eb-b1f739f0f571"
            },
            "outputs": [],
            "execution_count": null
        },
        {
            "cell_type": "code",
            "source": [
                "DROP PROCEDURE IF EXISTS py_predict_airport;\r\n",
                "GO\r\n",
                "CREATE PROCEDURE py_predict_airport (@model varchar(100))   \r\n",
                "AS\r\n",
                "BEGIN\r\n",
                "    DECLARE @py_model varbinary(max) = (SELECT model FROM dbo.airport_py_models WHERE model_name = @model)\r\n",
                "\r\n",
                "    EXECUTE sp_execute_external_script\r\n",
                "        @language = N'Python',\r\n",
                "        @script = N'\r\n",
                "    \r\n",
                "import pandas\r\n",
                "from sklearn.linear_model import LinearRegression\r\n",
                "from sklearn.model_selection import train_test_split\r\n",
                "import pickle\r\n",
                "\r\n",
                "airport_model = pickle.loads(py_model)\r\n",
                "\r\n",
                "raw_dataframe = input_data\r\n",
                "\r\n",
                "index_start = 0\r\n",
                "index_stop = 9999\r\n",
                "\r\n",
                "independent_variables = [''month_no'',''total_traffic''] #input any number of variables\r\n",
                "dependent_variable = [''total_passengers''] #only input one variable\r\n",
                "\r\n",
                "independent_dataset = raw_dataframe[independent_variables][index_start:index_stop]\r\n",
                "dependent_dataset = raw_dataframe[dependent_variable][index_start:index_stop]\r\n",
                "\r\n",
                "linear_predictions = airport_model.predict(independent_dataset)     \r\n",
                "predictions_dataframe = pandas.DataFrame(linear_predictions)\r\n",
                "\r\n",
                "OutputDataSet = predictions_dataframe\r\n",
                "'\r\n",
                ", @input_data_1 = N'SELECT * FROM [externalDB].[dbo].[data]'\r\n",
                ", @input_data_1_name = N'input_data'\r\n",
                ", @params = N'@py_model varbinary(max)'\r\n",
                ", @py_model = @py_model\r\n",
                "WITH RESULT SETS ( ([predicted_passenger_count] INT NOT NULL) )\r\n",
                "\r\n",
                "END;\r\n",
                "GO"
            ],
            "metadata": {
                "azdata_cell_guid": "1814974c-6c28-48b1-9c40-7a906300c69d"
            },
            "outputs": [],
            "execution_count": null
        },
        {
            "cell_type": "code",
            "source": [
                "DROP TABLE IF EXISTS [dbo].[py_airport_predictions]\r\n",
                "GO\r\n",
                "\r\n",
                "CREATE TABLE [dbo].[py_airport_predictions](\r\n",
                "    [ID][INT] IDENTITY(1,1) NOT NULL,\r\n",
                "    [predicted_passenger_count] [INT] NOT NULL\r\n",
                ") ON [PRIMARY]\r\n",
                "GO"
            ],
            "metadata": {
                "azdata_cell_guid": "fdc2ba60-29e3-4d53-a12c-8ec941320a6b"
            },
            "outputs": [],
            "execution_count": null
        },
        {
            "cell_type": "code",
            "source": [
                "INSERT INTO [dbo].[py_airport_predictions]\r\n",
                "EXEC py_predict_airport 'linear_model'"
            ],
            "metadata": {
                "azdata_cell_guid": "e6761fdc-04d3-444a-a6c0-7baea86f2987"
            },
            "outputs": [],
            "execution_count": null
        },
        {
            "cell_type": "code",
            "source": [
                "SELECT [dbo].[py_airport_predictions].[predicted_passenger_count], [dbo].[data].[total_passengers]\n",
                "FROM [dbo].[py_airport_predictions]\n",
                "JOIN [dbo].[data]\n",
                "ON [dbo].[py_airport_predictions].[id] = [dbo].[data].[id]"
            ],
            "metadata": {
                "azdata_cell_guid": "635a1941-6c83-4691-945d-612ab9cf4931"
            },
            "outputs": [],
            "execution_count": null
        }
    ]
}