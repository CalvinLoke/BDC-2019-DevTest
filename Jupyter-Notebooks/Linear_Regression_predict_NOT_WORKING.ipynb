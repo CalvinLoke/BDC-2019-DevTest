{
    "metadata": {
        "kernelspec": {
            "name": "python3",
            "display_name": "Python 3",
            "language": "python"
        },
        "language_info": {
            "name": "python",
            "version": "3.8.6",
            "mimetype": "text/x-python",
            "codemirror_mode": {
                "name": "ipython",
                "version": 3
            },
            "pygments_lexer": "ipython3",
            "nbconvert_exporter": "python",
            "file_extension": ".py"
        }
    },
    "nbformat_minor": 2,
    "nbformat": 4,
    "cells": [
        {
            "cell_type": "code",
            "source": [
                "import pandas\r\n",
                "from sklearn.linear_model import LinearRegression\r\n",
                "from sklearn.model_selection import train_test_split\r\n",
                "import pickle\r\n",
                "import pyodbc"
            ],
            "metadata": {
                "azdata_cell_guid": "def81a36-9d96-4a03-9879-844e21d64f4d"
            },
            "outputs": [],
            "execution_count": 8
        },
        {
            "cell_type": "code",
            "source": [
                "cnxn = pyodbc.connect('DRIVER={ODBC Driver 17 for SQL Server}; SERVER=10.10.0.104,31433; DATABASE=externalDB;UID=admin;PWD=Password1234')\r\n",
                "cursor = cnxn.cursor()\r\n",
                "\r\n",
                "query_str = \"SELECT model FROM dbo.hdb_py_models WHERE model_name = 'linear_model' \"\r\n",
                "cursor.execute(query_str)\r\n",
                "row = cursor.fetchone()\r\n",
                "py_model = row[0]\r\n",
                "\r\n",
                "trained_model = pickle.loads(py_model)"
            ],
            "metadata": {
                "azdata_cell_guid": "8bbb6f2e-45d3-4ef1-af51-c21ba5a08970"
            },
            "outputs": [
                {
                    "traceback": [
                        "\u001b[1;31m---------------------------------------------------------------------------\u001b[0m",
                        "\u001b[1;31mModuleNotFoundError\u001b[0m                       Traceback (most recent call last)",
                        "\u001b[1;32m<ipython-input-18-db33b5660508>\u001b[0m in \u001b[0;36m<module>\u001b[1;34m\u001b[0m\n\u001b[0;32m      7\u001b[0m \u001b[0mpy_model\u001b[0m \u001b[1;33m=\u001b[0m \u001b[0mrow\u001b[0m\u001b[1;33m[\u001b[0m\u001b[1;36m0\u001b[0m\u001b[1;33m]\u001b[0m\u001b[1;33m\u001b[0m\u001b[1;33m\u001b[0m\u001b[0m\n\u001b[0;32m      8\u001b[0m \u001b[1;33m\u001b[0m\u001b[0m\n\u001b[1;32m----> 9\u001b[1;33m \u001b[0mtrained_model\u001b[0m \u001b[1;33m=\u001b[0m \u001b[0mpickle\u001b[0m\u001b[1;33m.\u001b[0m\u001b[0mloads\u001b[0m\u001b[1;33m(\u001b[0m\u001b[0mpy_model\u001b[0m\u001b[1;33m)\u001b[0m\u001b[1;33m\u001b[0m\u001b[1;33m\u001b[0m\u001b[0m\n\u001b[0m",
                        "\u001b[1;31mModuleNotFoundError\u001b[0m: No module named 'sklearn.linear_model.base'"
                    ],
                    "ename": "ModuleNotFoundError",
                    "evalue": "No module named 'sklearn.linear_model.base'",
                    "output_type": "error"
                }
            ],
            "execution_count": 18
        },
        {
            "cell_type": "code",
            "source": [
                "trained_model.predict( [[0, 0, 68, 0, 756]] )"
            ],
            "metadata": {
                "azdata_cell_guid": "423e6ef6-8357-45e2-a6f2-c7a021b9de51"
            },
            "outputs": [
                {
                    "traceback": [
                        "\u001b[1;31m---------------------------------------------------------------------------\u001b[0m",
                        "\u001b[1;31mNameError\u001b[0m                                 Traceback (most recent call last)",
                        "\u001b[1;32m<ipython-input-3-a7a7e11b690b>\u001b[0m in \u001b[0;36m<module>\u001b[1;34m\u001b[0m\n\u001b[1;32m----> 1\u001b[1;33m \u001b[0mtrained_model\u001b[0m\u001b[1;33m.\u001b[0m\u001b[0mpredict\u001b[0m\u001b[1;33m(\u001b[0m \u001b[1;33m[\u001b[0m\u001b[1;33m[\u001b[0m\u001b[1;36m0\u001b[0m\u001b[1;33m,\u001b[0m \u001b[1;36m0\u001b[0m\u001b[1;33m,\u001b[0m \u001b[1;36m68\u001b[0m\u001b[1;33m,\u001b[0m \u001b[1;36m0\u001b[0m\u001b[1;33m,\u001b[0m \u001b[1;36m756\u001b[0m\u001b[1;33m]\u001b[0m\u001b[1;33m]\u001b[0m \u001b[1;33m)\u001b[0m\u001b[1;33m\u001b[0m\u001b[1;33m\u001b[0m\u001b[0m\n\u001b[0m",
                        "\u001b[1;31mNameError\u001b[0m: name 'trained_model' is not defined"
                    ],
                    "ename": "NameError",
                    "evalue": "name 'trained_model' is not defined",
                    "output_type": "error"
                }
            ],
            "execution_count": 3
        },
        {
            "cell_type": "code",
            "source": [
                "import sqlmlutils\r\n",
                "\r\n",
                "connection = sqlmlutils.ConnectionInfo(server='10.10.0.104,31433', database='externalDB', uid='admin', pwd='Password1234')\r\n",
                "sqlmlutils.SQLPackageManager(connection).install(\"scikit-learn\")"
            ],
            "metadata": {
                "azdata_cell_guid": "c4dbac29-4179-4840-ba5c-93e1a764bb24"
            },
            "outputs": [
                {
                    "name": "stdout",
                    "text": "\nPackage scikit-learn exists on server. Set upgrade to True in install to force upgrade.\nThe version of scikit-learn you are trying to install is 0.24.1.\nThe version installed on the server is 0.20.2\n    \n",
                    "output_type": "stream"
                }
            ],
            "execution_count": 23
        }
    ]
}