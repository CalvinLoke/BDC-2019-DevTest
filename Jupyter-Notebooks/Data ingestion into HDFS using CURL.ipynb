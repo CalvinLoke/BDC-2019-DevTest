{
    "metadata": {
        "kernelspec": {
            "name": "python3",
            "display_name": "Python 3"
        },
        "language_info": {
            "name": "python",
            "version": "3.6.6",
            "mimetype": "text/x-python",
            "codemirror_mode": {
                "name": "ipython",
                "version": 3
            },
            "pygments_lexer": "ipython3",
            "nbconvert_exporter": "python",
            "file_extension": ".py"
        }
    },
    "nbformat_minor": 2,
    "nbformat": 4,
    "cells": [
        {
            "cell_type": "code",
            "source": [
                "# Create directory\r\n",
                "import requests\r\n",
                "import urllib\r\n",
                "\r\n",
                "urllib3.disable_warnings(urllib3.exceptions.InsecureRequestWarning)\r\n",
                "\r\n",
                "params = (\r\n",
                "    ('op', 'MKDIRS'),\r\n",
                ")\r\n",
                "\r\n",
                "response = requests.put('https://10.10.0.104:30443/gateway/default/webhdfs/v1/test_dir', params=params, verify=False, auth=('admin', 'Password1234'))"
            ],
            "metadata": {
                "azdata_cell_guid": "fac0059f-265b-43ed-8db1-60a2bdd57cb5"
            },
            "outputs": [],
            "execution_count": 31
        },
        {
            "cell_type": "code",
            "source": [
                "# Upload file\r\n",
                "import requests\r\n",
                "import urllib3\r\n",
                "import requests\r\n",
                "\r\n",
                "headers = {\r\n",
                "    'Content-Type': 'application/octet-stream',\r\n",
                "}\r\n",
                "\r\n",
                "params = (\r\n",
                "    ('op', 'create'),\r\n",
                ")\r\n",
                "\r\n",
                "response = requests.put('https://10.10.0.104:30443/gateway/default/webhdfs/v1/test_dir/test2.csv', headers=headers, params=params, verify=False, auth=('admin', 'Password1234'))\r\n",
                "\r\n",
                "#NB. Original query string below. It seems impossible to parse and\r\n",
                "#reproduce query strings 100% accurately so the one below is given\r\n",
                "#in case the reproduced version is not \"correct\".\r\n",
                "# response = requests.put('https://10.10.0.104:30443/gateway/default/webhdfs/v1/test_dir/test2.csv?op=create', headers=headers, verify=False, auth=('admin', 'Password1234'))\r\n",
                ""
            ],
            "metadata": {
                "azdata_cell_guid": "5a2935bb-8b13-4968-8538-ca09c4b62b03"
            },
            "outputs": [],
            "execution_count": 33
        },
        {
            "cell_type": "code",
            "source": [
                "# Listing directory\r\n",
                "import requests\r\n",
                "import urllib3\r\n",
                "import pprint\r\n",
                "\r\n",
                "urllib3.disable_warnings(urllib3.exceptions.InsecureRequestWarning)\r\n",
                "\r\n",
                "params = (\r\n",
                "    ('op', 'liststatus'),\r\n",
                ")\r\n",
                "\r\n",
                "response = requests.get('https://10.10.0.104:30443/gateway/default/webhdfs/v1/test_dir/', params=params, verify=False, auth=('admin', 'Password1234'))\r\n",
                "\r\n",
                "print(response.content)"
            ],
            "metadata": {
                "azdata_cell_guid": "87a11f06-8f02-40e8-9494-2a06e819d556",
                "tags": []
            },
            "outputs": [],
            "execution_count": null
        }
    ]
}