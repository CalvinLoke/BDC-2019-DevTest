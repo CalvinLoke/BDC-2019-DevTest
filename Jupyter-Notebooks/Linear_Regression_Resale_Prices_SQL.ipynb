{
    "metadata": {
        "kernelspec": {
            "name": "SQL",
            "display_name": "SQL",
            "language": "sql"
        },
        "language_info": {
            "name": "sql",
            "version": ""
        }
    },
    "nbformat_minor": 2,
    "nbformat": 4,
    "cells": [
        {
            "cell_type": "markdown",
            "source": [
                "Create procedure that trains models"
            ],
            "metadata": {
                "azdata_cell_guid": "0bbf3c43-3342-4c77-a51e-1280c78a5233"
            }
        },
        {
            "cell_type": "code",
            "source": [
                "DROP PROCEDURE IF EXISTS generate_model;\r\n",
                "GO\r\n",
                "\r\n",
                "CREATE PROCEDURE generate_model (@trained_model varbinary(max) OUTPUT)\r\n",
                "AS \r\n",
                "BEGIN    \r\n",
                "    EXECUTE sp_execute_external_script\r\n",
                "            @language = N'Python',\r\n",
                "            @script = N'\r\n",
                "import pandas\r\n",
                "from sklearn.linear_model import LinearRegression\r\n",
                "from sklearn.model_selection import train_test_split\r\n",
                "import pickle\r\n",
                "\r\n",
                "raw_dataframe = input_data\r\n",
                "\r\n",
                "# Data pre-processing\r\n",
                "raw_dataframe.town = pandas.factorize(raw_dataframe.town)[0]\r\n",
                "raw_dataframe.flat_type = pandas.factorize(raw_dataframe.flat_type)[0]\r\n",
                "raw_dataframe.flat_model = pandas.factorize(raw_dataframe.flat_model)[0]\r\n",
                "\r\n",
                "# Data range refinement\r\n",
                "town_value = 0\r\n",
                "month_value = 1\r\n",
                "year_value = 2017\r\n",
                "refined_df = raw_dataframe.loc[ (raw_dataframe[''town''] == town_value) &\r\n",
                "                              # (raw_dataframe[''month''] == month_value) &\r\n",
                "                                (raw_dataframe[''year''] == year_value) ]\r\n",
                "dependent_variable = [''resale_price''] \r\n",
                "dependent_dataset = refined_df[dependent_variable]\r\n",
                "\r\n",
                "# Define dependent and independent variables\r\n",
                "independent_variables = [''town'',''flat_type'',''floor_area_sqm'',''flat_model'',''remaining_lease_months''] #input any number of variables\r\n",
                "dependent_variable = [''resale_price''] #only input one variable\r\n",
                "\r\n",
                "# Split data into dependent and independent \r\n",
                "independent_dataset = refined_df[independent_variables]\r\n",
                "dependent_dataset = refined_df[dependent_variable]\r\n",
                "\r\n",
                "# Further splitting dataset into training and testing subsets\r\n",
                "test_ratio=0.2 #splits the data into testing and training sets with ratio 0.2\r\n",
                "indp_train_set, indp_test_set, dep_train_set, dep_test_set = train_test_split(independent_dataset, \r\n",
                "                                                                              dependent_dataset, \r\n",
                "                                                                              test_size=test_ratio)\r\n",
                "\r\n",
                "\r\n",
                "# Create model object & train model\r\n",
                "linear_model = LinearRegression()\r\n",
                "linear_model.fit(indp_train_set, dep_train_set)\r\n",
                "\r\n",
                "trained_model = pickle.dumps(linear_model)\r\n",
                "'\r\n",
                ", @input_data_1 = N'\r\n",
                "SELECT\r\n",
                "[dbo].[hdbAddress].[id], [dbo].[hdbAddress].[year], [dbo].[hdbAddress].[month], [dbo].[hdbAddress].[date],\r\n",
                "[dbo].[hdbAddress].[town], [dbo].[hdbAddress].[flat_type], [dbo].[hdbAddress].[block], [dbo].[hdbAddress].[street_name],\r\n",
                "[dbo].[hdbAddress].[storey_range], [dbo].[hdbAddress].[floor_area_sqm], [dbo].[hdbAddress].[flat_model],\r\n",
                "[dbo].[remainingLease].[lease_commence_date], [dbo].[remainingLease].[remaining_lease], [dbo].[remainingLease].[remaining_lease_months],\r\n",
                "[hdb_database_1].[resalePrices].[resale_price]\r\n",
                "FROM [dbo].[hdbAddress]\r\n",
                "JOIN [dbo].[remainingLease]\r\n",
                "ON [dbo].[hdbAddress].[id] = [dbo].[remainingLease].[id]\r\n",
                "JOIN [hdb_database_1].[resalePrices]\r\n",
                "ON [dbo].[hdbAddress].[id] = [hdb_database_1].[resalePrices].[id]'\r\n",
                ", @input_data_1_name = N'input_data'\r\n",
                ", @params = N'@trained_model varbinary(max) OUTPUT'\r\n",
                ", @trained_model = @trained_model OUTPUT;\r\n",
                "END; \r\n",
                "GO"
            ],
            "metadata": {
                "azdata_cell_guid": "4f1e2456-8b55-4e46-8f86-cddf43179e9f",
                "tags": []
            },
            "outputs": [
                {
                    "output_type": "display_data",
                    "data": {
                        "text/html": "Commands completed successfully."
                    },
                    "metadata": {}
                },
                {
                    "output_type": "display_data",
                    "data": {
                        "text/html": "Commands completed successfully."
                    },
                    "metadata": {}
                },
                {
                    "output_type": "display_data",
                    "data": {
                        "text/html": "Total execution time: 00:00:00.049"
                    },
                    "metadata": {}
                }
            ],
            "execution_count": 1
        },
        {
            "cell_type": "markdown",
            "source": [
                "Create a table to store trained models"
            ],
            "metadata": {
                "azdata_cell_guid": "92f7a641-3a56-4139-8f92-10862496ab1f"
            }
        },
        {
            "cell_type": "code",
            "source": [
                "Use externalDB;\r\n",
                "DROP TABLE IF EXISTS dbo.hdb_py_models;\r\n",
                "GO\r\n",
                "CREATE TABLE dbo.hdb_py_models(\r\n",
                "    model_name VARCHAR(30) NOT NULL DEFAULT('default model') PRIMARY KEY,\r\n",
                "    model VARBINARY(MAX) NOT NULL\r\n",
                ");\r\n",
                "GO"
            ],
            "metadata": {
                "azdata_cell_guid": "6c9ccf80-4983-4ed3-971f-dac442923053",
                "tags": []
            },
            "outputs": [
                {
                    "output_type": "display_data",
                    "data": {
                        "text/html": "Commands completed successfully."
                    },
                    "metadata": {}
                },
                {
                    "output_type": "display_data",
                    "data": {
                        "text/html": "Commands completed successfully."
                    },
                    "metadata": {}
                },
                {
                    "output_type": "display_data",
                    "data": {
                        "text/html": "Total execution time: 00:00:00.012"
                    },
                    "metadata": {}
                }
            ],
            "execution_count": 2
        },
        {
            "cell_type": "markdown",
            "source": [
                "Execute the stored procedure and store the resultant model into the table"
            ],
            "metadata": {
                "azdata_cell_guid": "c3ef3fed-4652-4465-b357-f649ed5d3c8e"
            }
        },
        {
            "cell_type": "code",
            "source": [
                "-- Execute if model has not been created\r\n",
                "DECLARE @model VARBINARY(MAX);\r\n",
                "EXECUTE generate_model @model OUTPUT;\r\n",
                "\r\n",
                "INSERT INTO [dbo].[hdb_py_models] (model_name, model) VALUES ('linear_model', @model)"
            ],
            "metadata": {
                "azdata_cell_guid": "825ae6b1-3d68-4928-9094-1362a45e63d3",
                "tags": []
            },
            "outputs": [
                {
                    "output_type": "display_data",
                    "data": {
                        "text/html": "(1 row affected)"
                    },
                    "metadata": {}
                },
                {
                    "output_type": "display_data",
                    "data": {
                        "text/html": "Total execution time: 00:00:05.569"
                    },
                    "metadata": {}
                }
            ],
            "execution_count": 3
        },
        {
            "cell_type": "code",
            "source": [
                "--Execute if model has already been created\r\n",
                "DECLARE @model VARBINARY(MAX);\r\n",
                "EXECUTE generate_py_model @model OUTPUT;\r\n",
                "\r\n",
                "UPDATE [dbo].[hdb_py_models] SET model_name = 'linear_model', model = @model WHERE model_name = 'linear_model'"
            ],
            "metadata": {
                "azdata_cell_guid": "66d7f324-9590-4ef1-9f01-c6cf0a29745f"
            },
            "outputs": [],
            "execution_count": null
        },
        {
            "cell_type": "markdown",
            "source": [
                "Retrieve the model from the table"
            ],
            "metadata": {
                "azdata_cell_guid": "67aafdbf-7571-4449-8b62-dbf66bc54568"
            }
        },
        {
            "cell_type": "code",
            "source": [
                "SELECT model FROM dbo.hdb_py_models WHERE model_name = 'linear_model'"
            ],
            "metadata": {
                "azdata_cell_guid": "6b58c129-f1c1-4e9d-a9eb-b1f739f0f571"
            },
            "outputs": [
                {
                    "output_type": "display_data",
                    "data": {
                        "text/html": "(1 row affected)"
                    },
                    "metadata": {}
                },
                {
                    "output_type": "display_data",
                    "data": {
                        "text/html": "Total execution time: 00:00:00.048"
                    },
                    "metadata": {}
                },
                {
                    "output_type": "execute_result",
                    "metadata": {
                        "resultSet": {
                            "id": 0,
                            "batchId": 0,
                            "rowCount": 1,
                            "complete": false,
                            "columnInfo": [
                                {
                                    "isBytes": true,
                                    "isChars": false,
                                    "isSqlVariant": false,
                                    "isUdt": false,
                                    "isXml": false,
                                    "isJson": false,
                                    "sqlDbType": 21,
                                    "isHierarchyId": false,
                                    "isSqlXmlType": false,
                                    "isUnknownType": false,
                                    "isUpdatable": true,
                                    "allowDBNull": false,
                                    "baseCatalogName": null,
                                    "baseColumnName": null,
                                    "baseSchemaName": null,
                                    "baseServerName": null,
                                    "baseTableName": null,
                                    "columnName": "model",
                                    "columnOrdinal": 0,
                                    "columnSize": 2147483647,
                                    "isAliased": null,
                                    "isAutoIncrement": false,
                                    "isExpression": null,
                                    "isHidden": null,
                                    "isIdentity": false,
                                    "isKey": null,
                                    "isLong": true,
                                    "isReadOnly": false,
                                    "isUnique": false,
                                    "numericPrecision": 255,
                                    "numericScale": 255,
                                    "udtAssemblyQualifiedName": null,
                                    "dataType": "System.Byte[], System.Private.CoreLib, Version=4.0.0.0, Culture=neutral, PublicKeyToken=7cec85d7bea7798e",
                                    "dataTypeName": "varbinary"
                                }
                            ],
                            "specialAction": null
                        }
                    },
                    "execution_count": 4,
                    "data": {
                        "application/vnd.dataresource+json": {
                            "schema": {
                                "fields": [
                                    {
                                        "name": "model"
                                    }
                                ]
                            },
                            "data": [
                                {
                                    "0": "0x800363736B6C6561726E2E6C696E6561725F6D6F64656C2E626173650A4C696E65617252656772657373696F6E0A7100298171017D710228580D0000006669745F696E7465726365707471038858090000006E6F726D616C697A657104895806000000636F70795F5871058858060000006E5F6A6F627371064E5805000000636F65665F7107636E756D70792E636F72652E6D756C746961727261790A5F7265636F6E7374727563740A7108636E756D70790A6E6461727261790A71094B0085710A430162710B87710C52710D284B014B014B0286710E636E756D70790A64747970650A710F5802000000663871104B004B01877111527112284B0358010000003C71134E4E4E4AFFFFFFFF4AFFFFFFFF4B0074711462894310BAA5C2AA4ACDCB40B0B72649DDA8654071157471166258090000005F72657369647565737117680868094B00857118680B87711952711A284B014B0185711B68128943084EF8D10316B0A642711C74711D62580500000072616E6B5F711E4B02580900000073696E67756C61725F711F680868094B00857120680B877121527122284B014B02857123681289431043149303F8EF04417978932A93065140712474712562580A000000696E746572636570745F7126680868094B00857127680B877128527129284B014B0185712A6812894308D024E6C075AC15C1712B74712C6258100000005F736B6C6561726E5F76657273696F6E712D5806000000302E32302E32712E75622E"
                                }
                            ]
                        },
                        "text/html": [
                            "<table>",
                            "<tr><th>model</th></tr>",
                            "<tr><td>0x800363736B6C6561726E2E6C696E6561725F6D6F64656C2E626173650A4C696E65617252656772657373696F6E0A7100298171017D710228580D0000006669745F696E7465726365707471038858090000006E6F726D616C697A657104895806000000636F70795F5871058858060000006E5F6A6F627371064E5805000000636F65665F7107636E756D70792E636F72652E6D756C746961727261790A5F7265636F6E7374727563740A7108636E756D70790A6E6461727261790A71094B0085710A430162710B87710C52710D284B014B014B0286710E636E756D70790A64747970650A710F5802000000663871104B004B01877111527112284B0358010000003C71134E4E4E4AFFFFFFFF4AFFFFFFFF4B0074711462894310BAA5C2AA4ACDCB40B0B72649DDA8654071157471166258090000005F72657369647565737117680868094B00857118680B87711952711A284B014B0185711B68128943084EF8D10316B0A642711C74711D62580500000072616E6B5F711E4B02580900000073696E67756C61725F711F680868094B00857120680B877121527122284B014B02857123681289431043149303F8EF04417978932A93065140712474712562580A000000696E746572636570745F7126680868094B00857127680B877128527129284B014B0185712A6812894308D024E6C075AC15C1712B74712C6258100000005F736B6C6561726E5F76657273696F6E712D5806000000302E32302E32712E75622E</td></tr>",
                            "</table>"
                        ]
                    }
                }
            ],
            "execution_count": 4
        },
        {
            "cell_type": "markdown",
            "source": [
                "Create a stored procedure that retrieves the stored model and predicts a set values"
            ],
            "metadata": {
                "azdata_cell_guid": "ec17670f-5be8-485b-91fb-68145c49a1d8"
            }
        },
        {
            "cell_type": "code",
            "source": [
                "DROP PROCEDURE IF EXISTS py_predict_hdb;\r\n",
                "GO\r\n",
                "CREATE PROCEDURE py_predict_hdb (@model varchar(100))   \r\n",
                "AS\r\n",
                "BEGIN\r\n",
                "    DECLARE @py_model varbinary(max) = (SELECT model FROM dbo.hdb_py_models WHERE model_name = @model)\r\n",
                "\r\n",
                "    EXECUTE sp_execute_external_script\r\n",
                "        @language = N'Python',\r\n",
                "        @script = N'    \r\n",
                "import pandas\r\n",
                "from sklearn.linear_model import LinearRegression\r\n",
                "from sklearn.model_selection import train_test_split\r\n",
                "import pickle\r\n",
                "\r\n",
                "raw_dataframe = input_data\r\n",
                "trained_model = pickle.loads(py_model)\r\n",
                "\r\n",
                "# Data pre-processing\r\n",
                "raw_dataframe.town = pandas.factorize(raw_dataframe.town)[0]\r\n",
                "raw_dataframe.flat_type = pandas.factorize(raw_dataframe.flat_type)[0]\r\n",
                "raw_dataframe.flat_model = pandas.factorize(raw_dataframe.flat_model)[0]\r\n",
                "\r\n",
                "# Data range refinement\r\n",
                "town_value = 0\r\n",
                "month_value = 1\r\n",
                "year_value = 2017\r\n",
                "refined_df = raw_dataframe.loc[ (raw_dataframe[''town''] == town_value) &\r\n",
                "                              # (raw_dataframe[''month''] == month_value) &\r\n",
                "                                (raw_dataframe[''year''] == year_value) ]\r\n",
                "dependent_variable = [''resale_price''] \r\n",
                "dependent_dataset = refined_df[dependent_variable]\r\n",
                "\r\n",
                "# Define dependent and independent variables\r\n",
                "independent_variables = [''town'',''flat_type'',''floor_area_sqm'',''flat_model'',''remaining_lease_months''] #input any number of variables\r\n",
                "dependent_variable = [''resale_price''] #only input one variable\r\n",
                "\r\n",
                "# Split data into dependent and independent \r\n",
                "independent_dataset = refined_df[independent_variables]\r\n",
                "dependent_dataset = refined_df[dependent_variable]\r\n",
                "\r\n",
                "# Further splitting dataset into training and testing subsets\r\n",
                "test_ratio=0.2 #splits the data into testing and training sets with ratio 0.2\r\n",
                "indp_train_set, indp_test_set, dep_train_set, dep_test_set = train_test_split(independent_dataset, \r\n",
                "                                                                              dependent_dataset, \r\n",
                "                                                                              test_size=test_ratio)\r\n",
                "\r\n",
                "linear_predictions = trained_model.predict(independent_dataset)     \r\n",
                "predictions_dataframe = pandas.DataFrame(linear_predictions)\r\n",
                "\r\n",
                "OutputDataSet = predictions_dataframe\r\n",
                "'\r\n",
                ", @input_data_1 = N' \r\n",
                "SELECT\r\n",
                "[dbo].[hdbAddress].[id], [dbo].[hdbAddress].[year], [dbo].[hdbAddress].[month], [dbo].[hdbAddress].[date],\r\n",
                "[dbo].[hdbAddress].[town], [dbo].[hdbAddress].[flat_type], [dbo].[hdbAddress].[block], [dbo].[hdbAddress].[street_name],\r\n",
                "[dbo].[hdbAddress].[storey_range], [dbo].[hdbAddress].[floor_area_sqm], [dbo].[hdbAddress].[flat_model],\r\n",
                "[dbo].[remainingLease].[lease_commence_date], [dbo].[remainingLease].[remaining_lease], [dbo].[remainingLease].[remaining_lease_months],\r\n",
                "[hdb_database_1].[resalePrices].[resale_price]\r\n",
                "FROM [dbo].[hdbAddress]\r\n",
                "JOIN [dbo].[remainingLease]\r\n",
                "ON [dbo].[hdbAddress].[id] = [dbo].[remainingLease].[id]\r\n",
                "JOIN [hdb_database_1].[resalePrices]\r\n",
                "ON [dbo].[hdbAddress].[id] = [hdb_database_1].[resalePrices].[id] '\r\n",
                ", @input_data_1_name = N'input_data'\r\n",
                ", @params = N'@py_model varbinary(max)'\r\n",
                ", @py_model = @py_model\r\n",
                "WITH RESULT SETS ( ([predicted_value] INT NOT NULL) )\r\n",
                "\r\n",
                "END;\r\n",
                "GO"
            ],
            "metadata": {
                "azdata_cell_guid": "1814974c-6c28-48b1-9c40-7a906300c69d"
            },
            "outputs": [
                {
                    "output_type": "display_data",
                    "data": {
                        "text/html": "Commands completed successfully."
                    },
                    "metadata": {}
                },
                {
                    "output_type": "display_data",
                    "data": {
                        "text/html": "Commands completed successfully."
                    },
                    "metadata": {}
                },
                {
                    "output_type": "display_data",
                    "data": {
                        "text/html": "Total execution time: 00:00:00.023"
                    },
                    "metadata": {}
                }
            ],
            "execution_count": 8
        },
        {
            "cell_type": "code",
            "source": [
                "DROP TABLE IF EXISTS [dbo].[py_hdb_predictions]\r\n",
                "GO\r\n",
                "\r\n",
                "CREATE TABLE [dbo].[py_hdb_predictions](\r\n",
                "    [ID][INT] IDENTITY(1,1) NOT NULL,\r\n",
                "    [predicted_hdb_count] [INT] NOT NULL\r\n",
                ") ON [PRIMARY]\r\n",
                "GO"
            ],
            "metadata": {
                "azdata_cell_guid": "fdc2ba60-29e3-4d53-a12c-8ec941320a6b"
            },
            "outputs": [
                {
                    "output_type": "display_data",
                    "data": {
                        "text/html": "Commands completed successfully."
                    },
                    "metadata": {}
                },
                {
                    "output_type": "display_data",
                    "data": {
                        "text/html": "Commands completed successfully."
                    },
                    "metadata": {}
                },
                {
                    "output_type": "display_data",
                    "data": {
                        "text/html": "Total execution time: 00:00:00.024"
                    },
                    "metadata": {}
                }
            ],
            "execution_count": 9
        },
        {
            "cell_type": "code",
            "source": [
                "INSERT INTO [dbo].[py_hdb_predictions]\r\n",
                "EXEC py_predict_hdb 'linear_model'"
            ],
            "metadata": {
                "azdata_cell_guid": "e6761fdc-04d3-444a-a6c0-7baea86f2987"
            },
            "outputs": [
                {
                    "output_type": "error",
                    "evalue": "Msg 39004, Level 16, State 20, Line 2\r\nA 'Python' script error occurred during execution of 'sp_execute_external_script' with HRESULT 0x80004004.",
                    "ename": "",
                    "traceback": []
                },
                {
                    "output_type": "error",
                    "evalue": "Msg 39019, Level 16, State 2, Line 2\r\nAn external script error occurred: \n\nError in execution.  Check the output for more information.",
                    "ename": "",
                    "traceback": []
                },
                {
                    "output_type": "display_data",
                    "data": {
                        "text/html": "(0 rows affected)"
                    },
                    "metadata": {}
                },
                {
                    "output_type": "display_data",
                    "data": {
                        "text/html": "Total execution time: 00:00:24.357"
                    },
                    "metadata": {}
                }
            ],
            "execution_count": 10
        },
        {
            "cell_type": "code",
            "source": [
                "SELECT [dbo].[py_hdb_predictions].[predicted_value]\n",
                "FROM [dbo].[py_hdb_predictions]\n",
                ""
            ],
            "metadata": {
                "azdata_cell_guid": "635a1941-6c83-4691-945d-612ab9cf4931"
            },
            "outputs": [],
            "execution_count": null
        },
        {
            "cell_type": "code",
            "source": [
                "SELECT\r\n",
                "[dbo].[hdbAddress].[id],\r\n",
                "[dbo].[hdbAddress].[town], [dbo].[hdbAddress].[year],\r\n",
                "[hdb_database_1].[resalePrices].[resale_price]\r\n",
                "FROM [dbo].[hdbAddress]\r\n",
                "JOIN [hdb_database_1].[resalePrices]\r\n",
                "ON [dbo].[hdbAddress].[id] = [hdb_database_1].[resalePrices].[id]\r\n",
                "WHERE [dbo].[hdbAddress].[year] = 2017 AND [dbo].[hdbAddress].[town] = 'ANG MO KIO'\r\n",
                "ORDER BY [dbo].[hdbAddress].[id] ASC"
            ],
            "metadata": {
                "azdata_cell_guid": "ed34152f-c16a-486b-9da8-0c1ca6bcace8"
            },
            "outputs": [],
            "execution_count": null
        }
    ]
}