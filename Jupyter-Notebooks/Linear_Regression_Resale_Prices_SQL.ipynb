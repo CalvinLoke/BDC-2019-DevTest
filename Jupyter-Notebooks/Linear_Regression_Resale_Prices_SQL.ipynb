{
    "metadata": {
        "kernelspec": {
            "name": "SQL",
            "display_name": "SQL",
            "language": "sql"
        },
        "language_info": {
            "name": "sql",
            "version": ""
        }
    },
    "nbformat_minor": 2,
    "nbformat": 4,
    "cells": [
        {
            "cell_type": "markdown",
            "source": [
                "Create procedure that trains models"
            ],
            "metadata": {
                "azdata_cell_guid": "0bbf3c43-3342-4c77-a51e-1280c78a5233"
            }
        },
        {
            "cell_type": "code",
            "source": [
                "DROP PROCEDURE IF EXISTS generate_model;\r\n",
                "GO\r\n",
                "\r\n",
                "CREATE PROCEDURE generate_model (@trained_model varbinary(max) OUTPUT)\r\n",
                "AS \r\n",
                "BEGIN    \r\n",
                "    EXECUTE sp_execute_external_script\r\n",
                "            @language = N'Python',\r\n",
                "            @script = N'\r\n",
                "import pandas\r\n",
                "from sklearn.linear_model import LinearRegression\r\n",
                "from sklearn.model_selection import train_test_split\r\n",
                "import pickle\r\n",
                "\r\n",
                "raw_dataframe = input_data\r\n",
                "\r\n",
                "# Data pre-processing\r\n",
                "raw_dataframe.town = pandas.factorize(raw_dataframe.town)[0]\r\n",
                "raw_dataframe.flat_type = pandas.factorize(raw_dataframe.flat_type)[0]\r\n",
                "raw_dataframe.flat_model = pandas.factorize(raw_dataframe.flat_model)[0]\r\n",
                "\r\n",
                "# Data range refinement\r\n",
                "town_value = 0\r\n",
                "month_value = 1\r\n",
                "year_value = 2017\r\n",
                "refined_df = raw_dataframe.loc[ (raw_dataframe[''town''] == town_value) &\r\n",
                "                              # (raw_dataframe[''month''] == month_value) &\r\n",
                "                                (raw_dataframe[''year''] == year_value) ]\r\n",
                "dependent_variable = [''resale_price''] \r\n",
                "dependent_dataset = refined_df[dependent_variable]\r\n",
                "\r\n",
                "# Define dependent and independent variables\r\n",
                "independent_variables = [''flat_type'',''floor_area_sqm'',''flat_model'',''remaining_lease_months''] #input any number of variables\r\n",
                "dependent_variable = [''resale_price''] #only input one variable\r\n",
                "\r\n",
                "# Split data into dependent and independent \r\n",
                "independent_dataset = refined_df[independent_variables]\r\n",
                "dependent_dataset = refined_df[dependent_variable]\r\n",
                "\r\n",
                "# Further splitting dataset into training and testing subsets\r\n",
                "test_ratio=0.2 #splits the data into testing and training sets with ratio 0.2\r\n",
                "indp_train_set, indp_test_set, dep_train_set, dep_test_set = train_test_split(independent_dataset, \r\n",
                "                                                                              dependent_dataset, \r\n",
                "                                                                              test_size=test_ratio)\r\n",
                "\r\n",
                "\r\n",
                "# Create model object & train model\r\n",
                "linear_model = LinearRegression()\r\n",
                "linear_model.fit(indp_train_set, dep_train_set)\r\n",
                "\r\n",
                "# Output trained model\r\n",
                "trained_model = pickle.dumps(linear_model)\r\n",
                "'\r\n",
                ", @input_data_1 = N'SELECT * FROM [bdc].[hdb_resale_prices]'\r\n",
                ", @input_data_1_name = N'input_data'\r\n",
                ", @params = N'@trained_model varbinary(max) OUTPUT'\r\n",
                ", @trained_model = @trained_model OUTPUT;\r\n",
                "END; \r\n",
                "GO"
            ],
            "metadata": {
                "azdata_cell_guid": "4f1e2456-8b55-4e46-8f86-cddf43179e9f",
                "tags": []
            },
            "outputs": [],
            "execution_count": null
        },
        {
            "cell_type": "markdown",
            "source": [
                "Create a table to store trained models"
            ],
            "metadata": {
                "azdata_cell_guid": "92f7a641-3a56-4139-8f92-10862496ab1f"
            }
        },
        {
            "cell_type": "code",
            "source": [
                "Use externalDB;\r\n",
                "DROP TABLE IF EXISTS [bdc].[hdb_py_models];\r\n",
                "GO\r\n",
                "CREATE TABLE [bdc].[hdb_py_models](\r\n",
                "    model_name VARCHAR(30) NOT NULL DEFAULT('default model') PRIMARY KEY,\r\n",
                "    model VARBINARY(MAX) NOT NULL\r\n",
                ");\r\n",
                "GO"
            ],
            "metadata": {
                "azdata_cell_guid": "6c9ccf80-4983-4ed3-971f-dac442923053",
                "tags": []
            },
            "outputs": [],
            "execution_count": null
        },
        {
            "cell_type": "markdown",
            "source": [
                "Execute the stored procedure and store the resultant model into the table"
            ],
            "metadata": {
                "azdata_cell_guid": "c3ef3fed-4652-4465-b357-f649ed5d3c8e"
            }
        },
        {
            "cell_type": "code",
            "source": [
                "-- Execute if model has not been created\r\n",
                "DECLARE @model VARBINARY(MAX);\r\n",
                "EXECUTE generate_model @model OUTPUT;\r\n",
                "\r\n",
                "INSERT INTO [bdc].[hdb_py_models] (model_name, model) VALUES ('linear_model', @model)"
            ],
            "metadata": {
                "azdata_cell_guid": "825ae6b1-3d68-4928-9094-1362a45e63d3",
                "tags": []
            },
            "outputs": [],
            "execution_count": null
        },
        {
            "cell_type": "code",
            "source": [
                "--Execute if model has already been created\r\n",
                "DECLARE @model VARBINARY(MAX);\r\n",
                "EXECUTE generate_py_model @model OUTPUT;\r\n",
                "\r\n",
                "UPDATE [bdc].[hdb_py_models] SET model_name = 'linear_model', model = @model WHERE model_name = 'linear_model'"
            ],
            "metadata": {
                "azdata_cell_guid": "66d7f324-9590-4ef1-9f01-c6cf0a29745f"
            },
            "outputs": [],
            "execution_count": null
        },
        {
            "cell_type": "markdown",
            "source": [
                "Retrieve the model from the table"
            ],
            "metadata": {
                "azdata_cell_guid": "67aafdbf-7571-4449-8b62-dbf66bc54568"
            }
        },
        {
            "cell_type": "code",
            "source": [
                "SELECT * FROM [bdc].[hdb_py_models] "
            ],
            "metadata": {
                "azdata_cell_guid": "6b58c129-f1c1-4e9d-a9eb-b1f739f0f571"
            },
            "outputs": [],
            "execution_count": null
        },
        {
            "cell_type": "markdown",
            "source": [
                "Create a stored procedure that retrieves the stored model and predicts a set values"
            ],
            "metadata": {
                "azdata_cell_guid": "ec17670f-5be8-485b-91fb-68145c49a1d8"
            }
        },
        {
            "cell_type": "code",
            "source": [
                "DROP PROCEDURE IF EXISTS py_predict_hdb;\r\n",
                "GO\r\n",
                "CREATE PROCEDURE py_predict_hdb (@model varchar(100))   \r\n",
                "AS\r\n",
                "BEGIN\r\n",
                "    DECLARE @py_model varbinary(max) = (SELECT model FROM [bdc].[hdb_py_models] WHERE model_name = @model)\r\n",
                "\r\n",
                "    EXECUTE sp_execute_external_script\r\n",
                "        @language = N'Python',\r\n",
                "        @script = N'\r\n",
                "# Import libraries        \r\n",
                "import pandas\r\n",
                "import pickle\r\n",
                "from sklearn.linear_model import LinearRegression\r\n",
                "\r\n",
                "# Load data into dataframe\r\n",
                "raw_dataframe = input_data\r\n",
                "trained_model = pickle.loads(py_model)\r\n",
                "\r\n",
                "# Data pre-processing\r\n",
                "raw_dataframe.town = pandas.factorize(raw_dataframe.town)[0]\r\n",
                "raw_dataframe.flat_type = pandas.factorize(raw_dataframe.flat_type)[0]\r\n",
                "raw_dataframe.flat_model = pandas.factorize(raw_dataframe.flat_model)[0]\r\n",
                "\r\n",
                "# Data range refinement\r\n",
                "town_value = 0\r\n",
                "month_value = 1\r\n",
                "year_value = 2017\r\n",
                "refined_df = raw_dataframe.loc[ (raw_dataframe[''town''] == town_value) &\r\n",
                "                                (raw_dataframe[''year''] == year_value) ]\r\n",
                "\r\n",
                "# Define dependent and independent variables\r\n",
                "independent_variables = [''flat_type'',''floor_area_sqm'',''flat_model'',''remaining_lease_months''] #input any number of variables\r\n",
                "dependent_variable = [''resale_price''] #only input one variable\r\n",
                "\r\n",
                "# Split data into dependent and independent \r\n",
                "independent_dataset = refined_df[independent_variables]\r\n",
                "dependent_dataset = refined_df[dependent_variable]\r\n",
                "\r\n",
                "linear_predictions = trained_model.predict(independent_dataset)     \r\n",
                "predictions_dataframe = pandas.DataFrame(linear_predictions)\r\n",
                "predictions_dataframe.columns = [''predicted_price''] # appends name \r\n",
                "\r\n",
                "OutputDataSet = predictions_dataframe\r\n",
                "'\r\n",
                ", @input_data_1 = N'SELECT * FROM [bdc].[hdb_resale_prices]'\r\n",
                ", @input_data_1_name = N'input_data'\r\n",
                ", @params = N'@py_model varbinary(max)'\r\n",
                ", @py_model = @py_model\r\n",
                "WITH RESULT SETS ( ([predicted_value] INT NOT NULL) )\r\n",
                "\r\n",
                "END;\r\n",
                "GO"
            ],
            "metadata": {
                "azdata_cell_guid": "1814974c-6c28-48b1-9c40-7a906300c69d",
                "tags": []
            },
            "outputs": [],
            "execution_count": null
        },
        {
            "cell_type": "markdown",
            "source": [
                "Check model score"
            ],
            "metadata": {
                "azdata_cell_guid": "ab92b6ac-a509-4198-bf9c-7616a6a7503f"
            }
        },
        {
            "cell_type": "code",
            "source": [
                "DECLARE @py_model varbinary(max) = (SELECT model FROM [bdc].[hdb_py_models] WHERE model_name = 'linear_model')\r\n",
                "\r\n",
                "EXECUTE sp_execute_external_script\r\n",
                "        @language = N'Python',\r\n",
                "        @script = N'\r\n",
                "# Import libraries        \r\n",
                "import pandas\r\n",
                "import pickle\r\n",
                "from sklearn.linear_model import LinearRegression\r\n",
                "\r\n",
                "# Load data into dataframe\r\n",
                "raw_dataframe = input_data\r\n",
                "trained_model = pickle.loads(py_model)\r\n",
                "\r\n",
                "# Data pre-processing\r\n",
                "raw_dataframe.town = pandas.factorize(raw_dataframe.town)[0]\r\n",
                "raw_dataframe.flat_type = pandas.factorize(raw_dataframe.flat_type)[0]\r\n",
                "raw_dataframe.flat_model = pandas.factorize(raw_dataframe.flat_model)[0]\r\n",
                "\r\n",
                "# Data range refinement\r\n",
                "town_value = 0\r\n",
                "month_value = 1\r\n",
                "year_value = 2017\r\n",
                "refined_df = raw_dataframe.loc[ (raw_dataframe[''town''] == town_value) &\r\n",
                "                                (raw_dataframe[''year''] == year_value) ]\r\n",
                "\r\n",
                "# Define dependent and independent variables\r\n",
                "independent_variables = [''flat_type'',''floor_area_sqm'',''flat_model'',''remaining_lease_months''] #input any number of variables\r\n",
                "dependent_variable = [''resale_price''] #only input one variable\r\n",
                "\r\n",
                "# Split data into dependent and independent \r\n",
                "independent_dataset = refined_df[independent_variables]\r\n",
                "dependent_dataset = refined_df[dependent_variable]\r\n",
                "\r\n",
                "print(\"Model score: \", trained_model.score(independent_dataset, dependent_dataset))\r\n",
                "'\r\n",
                ", @input_data_1 = N'SELECT * FROM [bdc].[hdb_resale_prices]'\r\n",
                ", @input_data_1_name = N'input_data'\r\n",
                ", @params = N'@py_model varbinary(max)'\r\n",
                ", @py_model = @py_model"
            ],
            "metadata": {
                "azdata_cell_guid": "3112d31e-4a92-4d21-a498-db038559e9bd"
            },
            "outputs": [],
            "execution_count": null
        },
        {
            "cell_type": "markdown",
            "source": [
                "Create table to store predictions"
            ],
            "metadata": {
                "azdata_cell_guid": "54e49fc4-6d67-4424-933a-04071700b9db"
            }
        },
        {
            "cell_type": "code",
            "source": [
                "DROP TABLE IF EXISTS [bdc].[py_hdb_predictions]\r\n",
                "GO\r\n",
                "\r\n",
                "CREATE TABLE [bdc].[py_hdb_predictions](\r\n",
                "    [ID][INT] IDENTITY(1,1) NOT NULL,\r\n",
                "    [predicted_hdb_resale_price] [INT] NOT NULL\r\n",
                ") ON [PRIMARY]\r\n",
                "GO"
            ],
            "metadata": {
                "azdata_cell_guid": "fdc2ba60-29e3-4d53-a12c-8ec941320a6b"
            },
            "outputs": [],
            "execution_count": null
        },
        {
            "cell_type": "code",
            "source": [
                "INSERT INTO [bdc].[py_hdb_predictions]\r\n",
                "EXEC py_predict_hdb 'linear_model'"
            ],
            "metadata": {
                "azdata_cell_guid": "e6761fdc-04d3-444a-a6c0-7baea86f2987"
            },
            "outputs": [],
            "execution_count": null
        },
        {
            "cell_type": "markdown",
            "source": [
                "Retrieve predicted  data"
            ],
            "metadata": {
                "azdata_cell_guid": "95052a87-5a53-4e0e-b7c1-046953c13e2e"
            }
        },
        {
            "cell_type": "code",
            "source": [
                "SELECT * FROM [bdc].[py_hdb_predictions]"
            ],
            "metadata": {
                "azdata_cell_guid": "4d270043-cb20-49e8-b621-754af7c3ee02"
            },
            "outputs": [],
            "execution_count": null
        },
        {
            "cell_type": "code",
            "source": [
                "SELECT [bdc].[py_hdb_predictions].[predicted_hdb_resale_price], [bdc].[hdb_resale_prices].[resale_price]\r\n",
                "FROM [bdc].[py_hdb_predictions]\r\n",
                "JOIN  [bdc].[hdb_resale_prices]\r\n",
                "ON [bdc].[py_hdb_predictions].[id] = [bdc].[hdb_resale_prices].[id]"
            ],
            "metadata": {
                "azdata_cell_guid": "635a1941-6c83-4691-945d-612ab9cf4931"
            },
            "outputs": [],
            "execution_count": null
        },
        {
            "cell_type": "code",
            "source": [
                "SELECT\r\n",
                "[hdfs].[hdbAddress].[id],\r\n",
                "[bdc].[hdbAddress].[town], [bdc].[hdbAddress].[year],\r\n",
                "[mongodb].[resalePrices].[resale_price]\r\n",
                "FROM [hdfs].[hdbAddress]\r\n",
                "JOIN [mongodb].[resalePrices]\r\n",
                "ON [hdfs].[hdbAddress].[id] = [mongodb].[resalePrices].[id]\r\n",
                "WHERE [hdfs].[hdbAddress].[year] = 2017 AND [hdfs].[hdbAddress].[town] = 'ANG MO KIO'\r\n",
                "ORDER BY [hdfs].[hdbAddress].[id] ASC"
            ],
            "metadata": {
                "azdata_cell_guid": "ed34152f-c16a-486b-9da8-0c1ca6bcace8"
            },
            "outputs": [],
            "execution_count": null
        },
        {
            "cell_type": "markdown",
            "source": [
                "Clean up"
            ],
            "metadata": {
                "azdata_cell_guid": "30d14f2a-f5f4-4e20-9148-b45d1d503a8d"
            }
        },
        {
            "cell_type": "code",
            "source": [
                "USE externalDB\r\n",
                "IF EXISTS (SELECT * FROM sys.objects WHERE object_id = OBJECT_ID(N'[bdc].[hdb_py_models]') AND type in (N'U'))\r\n",
                "DROP EXTERNAL TABLE [bdc].[hdb_py_models]\r\n",
                "GO\r\n",
                "IF EXISTS (SELECT * FROM sys.objects WHERE object_id = OBJECT_ID(N'[bdc].[hdb_predictions]') AND type in (N'U'))\r\n",
                "DROP EXTERNAL TABLE [bdc].[hdb_predictions]\r\n",
                "GO   \r\n",
                "IF EXISTS (SELECT * FROM sys.objects WHERE object_id = OBJECT_ID(N'[bdc].[py_hdb_predictions]') AND type in (N'U'))\r\n",
                "DROP EXTERNAL TABLE [bdc].[py_hdb_predictions]\r\n",
                "GO  "
            ],
            "metadata": {
                "azdata_cell_guid": "853d1b02-44a8-4ddf-b4f8-0e2c55584f30"
            },
            "outputs": [],
            "execution_count": null
        }
    ]
}