{
    "metadata": {
        "kernelspec": {
            "name": "SQL",
            "display_name": "SQL",
            "language": "sql"
        },
        "language_info": {
            "name": "sql",
            "version": ""
        }
    },
    "nbformat_minor": 2,
    "nbformat": 4,
    "cells": [
        {
            "cell_type": "markdown",
            "source": [
                "Change database context to externalDB"
            ],
            "metadata": {
                "azdata_cell_guid": "1b2cc3d0-3f7b-449e-8e8e-490345be923c"
            }
        },
        {
            "cell_type": "code",
            "source": [
                "USE externalDB;\r\n",
                "GO"
            ],
            "metadata": {
                "azdata_cell_guid": "b8560ce0-f81c-48b7-b4ac-b93eaafe89fc",
                "tags": []
            },
            "outputs": [],
            "execution_count": null
        },
        {
            "cell_type": "markdown",
            "source": [
                "Create schema for external databases"
            ],
            "metadata": {
                "azdata_cell_guid": "12b2a247-3e68-4900-a479-908d577920cf"
            }
        },
        {
            "cell_type": "code",
            "source": [
                "IF NOT EXISTS (SELECT * FROM sys.schemas WHERE NAME = 'mongodb')\r\n",
                "BEGIN\r\n",
                "    EXEC('CREATE SCHEMA mongodb')\r\n",
                "END;\r\n",
                "\r\n",
                "IF NOT EXISTS (SELECT * FROM sys.schemas WHERE NAME = 'extsql')\r\n",
                "BEGIN\r\n",
                "    EXEC('CREATE SCHEMA extsql')\r\n",
                "END;\r\n",
                "\r\n",
                "IF NOT EXISTS (SELECT * FROM sys.schemas WHERE NAME = 'hdfs')\r\n",
                "BEGIN\r\n",
                "    EXEC('CREATE SCHEMA hdfs')\r\n",
                "END;\r\n",
                "\r\n",
                "IF NOT EXISTS (SELECT * FROM sys.schemas WHERE NAME = 'bdc')\r\n",
                "BEGIN\r\n",
                "    EXEC('CREATE SCHEMA bdc')\r\n",
                "END;"
            ],
            "metadata": {
                "azdata_cell_guid": "8d2912ef-f27c-4e77-be08-b85ba8ba7000"
            },
            "outputs": [],
            "execution_count": null
        },
        {
            "cell_type": "markdown",
            "source": [
                "Check if desired schemas have been created"
            ],
            "metadata": {
                "azdata_cell_guid": "af78a510-c24e-4af9-9641-8ffeb9b1baa5"
            }
        },
        {
            "cell_type": "code",
            "source": [
                "SELECT * \r\n",
                "FROM sys.schemas \r\n",
                "WHERE NAME IN ('extsql', 'hdfs', 'mongodb', 'bdc')"
            ],
            "metadata": {
                "azdata_cell_guid": "fcac7481-0d25-446f-9950-5e7fe01922c0"
            },
            "outputs": [],
            "execution_count": null
        },
        {
            "cell_type": "markdown",
            "source": [
                "Create external table for MongoDB"
            ],
            "metadata": {
                "azdata_cell_guid": "49b79d87-d489-47bf-ba7b-81d6927a493f"
            }
        },
        {
            "cell_type": "code",
            "source": [
                "BEGIN TRY\r\n",
                "    BEGIN TRANSACTION T8c2ce5a2ebc24717ba31a9e954a480c\r\n",
                "        USE [externalDB];\r\n",
                "        CREATE EXTERNAL TABLE [mongodb].[resalePrices]\r\n",
                "        (\r\n",
                "            [_id] NVARCHAR(24) COLLATE SQL_Latin1_General_CP1_CI_AS NOT NULL,\r\n",
                "            [id] INT,\r\n",
                "            [year] INT,\r\n",
                "            [month] INT,\r\n",
                "            [date] NVARCHAR(4000) COLLATE SQL_Latin1_General_CP1_CI_AS,\r\n",
                "            [resale_price] INT\r\n",
                "        )\r\n",
                "        WITH (LOCATION = N'[hdb_database_1].[resalePrices]', DATA_SOURCE = [MongoDataSource]);\r\n",
                "    COMMIT TRANSACTION T8c2ce5a2ebc24717ba31a9e954a480c\r\n",
                "END TRY\r\n",
                "BEGIN CATCH\r\n",
                "    IF @@TRANCOUNT > 0\r\n",
                "        ROLLBACK TRANSACTION T8c2ce5a2ebc24717ba31a9e954a480c\r\n",
                "    DECLARE @ErrorMessage NVARCHAR(max) = ERROR_MESSAGE();\r\n",
                "    DECLARE @ErrorSeverity INT = ERROR_SEVERITY();\r\n",
                "    DECLARE @ErrorState INT = ERROR_STATE();\r\n",
                "    RAISERROR(@ErrorMessage, @ErrorSeverity, @ErrorState);\r\n",
                "END CATCH;\r\n",
                ""
            ],
            "metadata": {
                "azdata_cell_guid": "366db1d7-f8d1-4ba4-9d06-73da8001f407",
                "tags": []
            },
            "outputs": [],
            "execution_count": null
        },
        {
            "cell_type": "markdown",
            "source": [
                "Data querying from MongoDB external table"
            ],
            "metadata": {
                "azdata_cell_guid": "13d08b01-f3dd-4e28-91e3-73967120e435"
            }
        },
        {
            "cell_type": "code",
            "source": [
                "SELECT TOP (1000) [_id]\r\n",
                "      ,[id]\r\n",
                "      ,[year]\r\n",
                "      ,[month]\r\n",
                "      ,[date]\r\n",
                "      ,[resale_price]\r\n",
                "  FROM [externalDB].[mongodb].[resalePrices]\r\n",
                "  ORDER BY [id] ASC"
            ],
            "metadata": {
                "azdata_cell_guid": "9c8f4d8d-55e7-4337-ba61-5e4bf21783e9"
            },
            "outputs": [],
            "execution_count": null
        },
        {
            "cell_type": "markdown",
            "source": [
                "Create external table for SQL Server"
            ],
            "metadata": {
                "azdata_cell_guid": "1c382276-77ff-438d-8b33-ee6e2eba7402"
            }
        },
        {
            "cell_type": "code",
            "source": [
                "BEGIN TRY\r\n",
                "    BEGIN TRANSACTION T7edfcf36b59240cea61e2bf10c4132d\r\n",
                "        USE [externalDB];\r\n",
                "        CREATE EXTERNAL TABLE [extsql].[remainingLease]\r\n",
                "        (\r\n",
                "            [id] INT NOT NULL,\r\n",
                "            [year] INT NOT NULL,\r\n",
                "            [month] INT NOT NULL,\r\n",
                "            [date] DATETIME2(7) NOT NULL,\r\n",
                "            [lease_commence_date] INT NOT NULL,\r\n",
                "            [remaining_lease] NVARCHAR(50) COLLATE SQL_Latin1_General_CP1_CI_AS NOT NULL,\r\n",
                "            [remaining_lease_months] INT NOT NULL\r\n",
                "        )\r\n",
                "        WITH (LOCATION = N'[hdb_database_2].[dbo].[remainingLease]', DATA_SOURCE = [SQL_External]);\r\n",
                "    COMMIT TRANSACTION T7edfcf36b59240cea61e2bf10c4132d\r\n",
                "END TRY\r\n",
                "BEGIN CATCH\r\n",
                "    IF @@TRANCOUNT > 0\r\n",
                "        ROLLBACK TRANSACTION T7edfcf36b59240cea61e2bf10c4132d\r\n",
                "    DECLARE @ErrorMessage NVARCHAR(max) = ERROR_MESSAGE();\r\n",
                "    DECLARE @ErrorSeverity INT = ERROR_SEVERITY();\r\n",
                "    DECLARE @ErrorState INT = ERROR_STATE();\r\n",
                "    RAISERROR(@ErrorMessage, @ErrorSeverity, @ErrorState);\r\n",
                "END CATCH;\r\n",
                ""
            ],
            "metadata": {
                "azdata_cell_guid": "13032c32-3705-4179-92ab-6977e73eec70"
            },
            "outputs": [],
            "execution_count": null
        },
        {
            "cell_type": "markdown",
            "source": [
                "Query data from external SQL Server table"
            ],
            "metadata": {
                "azdata_cell_guid": "b896e488-229c-4e6e-9438-b383f0c1d3bf"
            }
        },
        {
            "cell_type": "code",
            "source": [
                "SELECT TOP (1000) [id]\r\n",
                "      ,[year]\r\n",
                "      ,[month]\r\n",
                "      ,[date]\r\n",
                "      ,[lease_commence_date]\r\n",
                "      ,[remaining_lease]\r\n",
                "      ,[remaining_lease_months]\r\n",
                "  FROM [externalDB].[extsql].[remainingLease]\r\n",
                "  ORDER BY [id] ASC"
            ],
            "metadata": {
                "azdata_cell_guid": "ba1b0115-dc00-417b-a519-14dfda0d1e7a"
            },
            "outputs": [],
            "execution_count": null
        },
        {
            "cell_type": "markdown",
            "source": [
                "Create external table for CSV file (HDFS)"
            ],
            "metadata": {
                "azdata_cell_guid": "99cee484-60bf-43e8-9858-b619614cffbd"
            }
        },
        {
            "cell_type": "code",
            "source": [
                "BEGIN TRY\r\n",
                "    BEGIN TRANSACTION Ta20dc7c52cbc4b168f681e59a1f645b\r\n",
                "        USE [externalDB];\r\n",
                "        IF NOT EXISTS (SELECT * FROM sys.external_file_formats WHERE name = 'FileFormat_resale-prices-3')\r\n",
                "            CREATE EXTERNAL FILE FORMAT [FileFormat_resale-prices-3]\r\n",
                "            WITH (FORMAT_TYPE = DELIMITEDTEXT, FORMAT_OPTIONS (FIELD_TERMINATOR = N',', STRING_DELIMITER = N'\"', FIRST_ROW = 2));\r\n",
                "        CREATE EXTERNAL TABLE [hdfs].[hdbAddress]\r\n",
                "        (\r\n",
                "            [id] INT NOT NULL,\r\n",
                "            [year] smallint NOT NULL,\r\n",
                "            [month] tinyint NOT NULL,\r\n",
                "            [date] nvarchar(50) NOT NULL,\r\n",
                "            [town] nvarchar(50) NOT NULL,\r\n",
                "            [flat_type] nvarchar(50) NOT NULL,\r\n",
                "            [block] nvarchar(50) NOT NULL,\r\n",
                "            [street_name] nvarchar(50) NOT NULL,\r\n",
                "            [storey_range] nvarchar(50) NOT NULL,\r\n",
                "            [floor_area_sqm] float NOT NULL,\r\n",
                "            [flat_model] nvarchar(50) NOT NULL\r\n",
                "        )\r\n",
                "        WITH (LOCATION = N'/hdb_csv_files/resale-prices-3.csv', DATA_SOURCE = [SqlStoragePool], FILE_FORMAT = [FileFormat_resale-prices-3]);\r\n",
                "    COMMIT TRANSACTION Ta20dc7c52cbc4b168f681e59a1f645b\r\n",
                "END TRY\r\n",
                "BEGIN CATCH\r\n",
                "    IF @@TRANCOUNT > 0\r\n",
                "        ROLLBACK TRANSACTION Ta20dc7c52cbc4b168f681e59a1f645b\r\n",
                "    DECLARE @ErrorMessage NVARCHAR(max) = ERROR_MESSAGE();\r\n",
                "    DECLARE @ErrorSeverity INT = ERROR_SEVERITY();\r\n",
                "    DECLARE @ErrorState INT = ERROR_STATE();\r\n",
                "    RAISERROR(@ErrorMessage, @ErrorSeverity, @ErrorState);\r\n",
                "END CATCH;\r\n",
                ""
            ],
            "metadata": {
                "azdata_cell_guid": "2302ef00-aa61-44b4-9b8f-acd5504cb816"
            },
            "outputs": [],
            "execution_count": null
        },
        {
            "cell_type": "markdown",
            "source": [
                "Query data from external table (HDFS CSV)"
            ],
            "metadata": {
                "azdata_cell_guid": "2632c1dd-3561-419e-9527-7267df9afc74"
            }
        },
        {
            "cell_type": "code",
            "source": [
                "SELECT TOP (1000) [id]\r\n",
                "      ,[year]\r\n",
                "      ,[month]\r\n",
                "      ,[date]\r\n",
                "      ,[town]\r\n",
                "      ,[flat_type]\r\n",
                "      ,[block]\r\n",
                "      ,[street_name]\r\n",
                "      ,[storey_range]\r\n",
                "      ,[floor_area_sqm]\r\n",
                "      ,[flat_model]\r\n",
                "  FROM [externalDB].[hdfs].[hdbAddress]\r\n",
                "  ORDER BY [id] ASC"
            ],
            "metadata": {
                "azdata_cell_guid": "c889c6df-05c4-4099-8b99-ce7b16a36c52"
            },
            "outputs": [],
            "execution_count": null
        },
        {
            "cell_type": "markdown",
            "source": [
                "Joining data from the three tables"
            ],
            "metadata": {
                "azdata_cell_guid": "c7852972-0d94-4193-8c6f-dc074a483024"
            }
        },
        {
            "cell_type": "code",
            "source": [
                "USE externalDB\r\n",
                "GO\r\n",
                "\r\n",
                "SELECT TOP (1000)\r\n",
                "[hdfs].[hdbAddress].[id], [hdfs].[hdbAddress].[year], [hdfs].[hdbAddress].[month], [hdfs].[hdbAddress].[date],\r\n",
                "[hdfs].[hdbAddress].[town], [hdfs].[hdbAddress].[flat_type], [hdfs].[hdbAddress].[block], [hdfs].[hdbAddress].[street_name],\r\n",
                "[hdfs].[hdbAddress].[storey_range], [hdfs].[hdbAddress].[floor_area_sqm], [hdfs].[hdbAddress].[flat_model],\r\n",
                "[extsql].[remainingLease].[lease_commence_date], [extsql].[remainingLease].[remaining_lease], [extsql].[remainingLease].[remaining_lease_months],\r\n",
                "[mongodb].[resalePrices].[resale_price]\r\n",
                "FROM [hdfs].[hdbAddress]\r\n",
                "JOIN [extsql].[remainingLease]\r\n",
                "ON [hdfs].[hdbAddress].[id] = [extsql].[remainingLease].[id]\r\n",
                "JOIN [mongodb].[resalePrices]\r\n",
                "ON [hdfs].[hdbAddress].[id] = [mongodb].[resalePrices].[id]\r\n",
                "ORDER BY [hdfs].[hdbAddress].[id] ASC"
            ],
            "metadata": {
                "azdata_cell_guid": "14cc33db-857a-48a0-8f59-3560c4d6512d"
            },
            "outputs": [],
            "execution_count": null
        },
        {
            "cell_type": "markdown",
            "source": [
                "Create a new table to store all the data"
            ],
            "metadata": {
                "azdata_cell_guid": "24b88801-b624-437e-b727-d3abf3ef2416"
            }
        },
        {
            "cell_type": "code",
            "source": [
                "Use externalDB;\r\n",
                "\r\n",
                "CREATE TABLE [bdc].[hdb_resale_prices](\r\n",
                "    [id] INT NOT NULL PRIMARY KEY,\r\n",
                "    [year] SMALLINT NOT NULL,\r\n",
                "    [month] SMALLINT NOT NULL,\r\n",
                "    [date] VARCHAR(50) NOT NULL,\r\n",
                "    [town] VARCHAR(50) NOT NULL,\r\n",
                "    [flat_type] VARCHAR(50) NOT NULL,\r\n",
                "    [block] VARCHAR(50) NOT NULL,\r\n",
                "    [street_name] VARCHAR(50) NOT NULL,\r\n",
                "    [storey_range] VARCHAR(50) NOT NULL,\r\n",
                "    [floor_area_sqm] FLOAT NOT NULL,\r\n",
                "    [flat_model] VARCHAR(50) NOT NULL,\r\n",
                "    [lease_commence_date] SMALLINT NOT NULL,\r\n",
                "    [remaining_lease] VARCHAR(50) NOT NULL,\r\n",
                "    [remaining_lease_months] INT NOT NULL,\r\n",
                "    [resale_price] INT NOT NULL\r\n",
                ");\r\n",
                "GO"
            ],
            "metadata": {
                "azdata_cell_guid": "3457367b-c797-4b2d-bba7-f8b5df027f51"
            },
            "outputs": [],
            "execution_count": null
        },
        {
            "cell_type": "markdown",
            "source": [
                "Insert data into new table"
            ],
            "metadata": {
                "azdata_cell_guid": "9a6f8f9a-61c0-4700-ab00-86c29f914b70"
            }
        },
        {
            "cell_type": "code",
            "source": [
                "INSERT INTO [bdc].[hdb_resale_prices]\r\n",
                "SELECT\r\n",
                "[hdfs].[hdbAddress].[id], [hdfs].[hdbAddress].[year], [hdfs].[hdbAddress].[month], [hdfs].[hdbAddress].[date],\r\n",
                "[hdfs].[hdbAddress].[town], [hdfs].[hdbAddress].[flat_type], [hdfs].[hdbAddress].[block], [hdfs].[hdbAddress].[street_name],\r\n",
                "[hdfs].[hdbAddress].[storey_range], [hdfs].[hdbAddress].[floor_area_sqm], [hdfs].[hdbAddress].[flat_model],\r\n",
                "[extsql].[remainingLease].[lease_commence_date], [extsql].[remainingLease].[remaining_lease], [extsql].[remainingLease].[remaining_lease_months],\r\n",
                "[mongodb].[resalePrices].[resale_price]\r\n",
                "FROM [hdfs].[hdbAddress]\r\n",
                "JOIN [extsql].[remainingLease]\r\n",
                "ON [hdfs].[hdbAddress].[id] = [extsql].[remainingLease].[id]\r\n",
                "JOIN [mongodb].[resalePrices]\r\n",
                "ON [hdfs].[hdbAddress].[id] = [mongodb].[resalePrices].[id] "
            ],
            "metadata": {
                "azdata_cell_guid": "76832ac7-a9f4-441c-8db5-34c2b2bb5836"
            },
            "outputs": [],
            "execution_count": null
        },
        {
            "cell_type": "markdown",
            "source": [
                "Query data from new table"
            ],
            "metadata": {
                "azdata_cell_guid": "8ab9a863-c751-4e53-8a23-c04081b83a26"
            }
        },
        {
            "cell_type": "code",
            "source": [
                "SELECT * FROM [bdc].[hdb_resale_prices]"
            ],
            "metadata": {
                "azdata_cell_guid": "255cd79f-790c-435f-a15a-4d4123e3f1d9"
            },
            "outputs": [],
            "execution_count": null
        },
        {
            "cell_type": "markdown",
            "source": [
                "Clean up"
            ],
            "metadata": {
                "azdata_cell_guid": "f13c31b5-4885-4817-a09e-7fdf52fff84a"
            }
        },
        {
            "cell_type": "code",
            "source": [
                "IF  EXISTS (SELECT * FROM sys.objects WHERE object_id = OBJECT_ID(N'[bdc].[hdb_resale_prices]') AND type in (N'U'))\r\n",
                "DROP EXTERNAL TABLE [bdc].[hdb_resale_prices]\r\n",
                "GO\r\n",
                "IF  EXISTS (SELECT * FROM sys.objects WHERE object_id = OBJECT_ID(N'[extsql].[remainingLease]') AND type in (N'U'))\r\n",
                "    DROP EXTERNAL TABLE [extsql].[remainingLease]\r\n",
                "    GO\r\n",
                "IF  EXISTS (SELECT * FROM sys.objects WHERE object_id = OBJECT_ID(N'[hdfs].[hdbAddress]') AND type in (N'U'))\r\n",
                "    DROP EXTERNAL TABLE [hdfs].[hdbAddress]\r\n",
                "    GO    \r\n",
                "IF  EXISTS (SELECT * FROM sys.objects WHERE object_id = OBJECT_ID(N'[mongodb].[resalePrices]') AND type in (N'U'))\r\n",
                "    DROP EXTERNAL TABLE [mongodb].[resalePrices]\r\n",
                "    GO    "
            ],
            "metadata": {
                "azdata_cell_guid": "7d9f7906-06a9-4624-8d6c-298d26b52f22"
            },
            "outputs": [],
            "execution_count": null
        }
    ]
}