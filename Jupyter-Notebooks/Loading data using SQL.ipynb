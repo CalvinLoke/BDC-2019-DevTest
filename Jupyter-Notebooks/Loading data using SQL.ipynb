{
    "metadata": {
        "kernelspec": {
            "name": "SQL",
            "display_name": "SQL",
            "language": "sql"
        },
        "language_info": {
            "name": "sql",
            "version": ""
        }
    },
    "nbformat_minor": 2,
    "nbformat": 4,
    "cells": [
        {
            "cell_type": "markdown",
            "source": [
                "Changing database context to sales"
            ],
            "metadata": {
                "azdata_cell_guid": "e4598df2-0015-494d-a77c-6934bbb82ef1"
            }
        },
        {
            "cell_type": "code",
            "source": [
                "USE Sales\r\n",
                "GO"
            ],
            "metadata": {
                "azdata_cell_guid": "a277c329-ff7c-453a-84f8-ba7efc9b4f77"
            },
            "outputs": [],
            "execution_count": null
        },
        {
            "cell_type": "markdown",
            "source": [
                "Create external data source to data pool"
            ],
            "metadata": {
                "azdata_cell_guid": "5807175f-daa2-4ee5-9bcf-9871ee883da6"
            }
        },
        {
            "cell_type": "code",
            "source": [
                "IF NOT EXISTS(SELECT * FROM sys.external_data_sources WHERE name = 'SqlDataPool')\r\n",
                "  CREATE EXTERNAL DATA SOURCE SqlDataPool\r\n",
                "  WITH (LOCATION = 'sqldatapool://controller-svc/default');"
            ],
            "metadata": {
                "azdata_cell_guid": "f9f847e0-defa-41cb-a890-67b8801f7da9"
            },
            "outputs": [],
            "execution_count": null
        },
        {
            "cell_type": "markdown",
            "source": [
                "Create external table"
            ],
            "metadata": {
                "azdata_cell_guid": "1570e472-4363-4bb0-a6bb-56c6388a9c2e"
            }
        },
        {
            "cell_type": "code",
            "source": [
                "IF NOT EXISTS(SELECT * FROM sys.external_tables WHERE name = 'web_clickstream_clicks_data_pool')\r\n",
                "   CREATE EXTERNAL TABLE [web_clickstream_clicks_data_pool]\r\n",
                "   (\"wcs_user_sk\" BIGINT , \"i_category_id\" BIGINT , \"clicks\" BIGINT)\r\n",
                "   WITH\r\n",
                "   (\r\n",
                "      DATA_SOURCE = SqlDataPool,\r\n",
                "      DISTRIBUTION = ROUND_ROBIN\r\n",
                "   );"
            ],
            "metadata": {
                "azdata_cell_guid": "15c6fa42-47d9-4db6-9a89-078d11b4adf9"
            },
            "outputs": [],
            "execution_count": null
        },
        {
            "cell_type": "markdown",
            "source": [
                "Load data using INSERT INTO statement"
            ],
            "metadata": {
                "azdata_cell_guid": "1766a158-bef9-48f1-b911-9d6d4da11746"
            }
        },
        {
            "cell_type": "code",
            "source": [
                "INSERT INTO web_clickstream_clicks_data_pool\r\n",
                "SELECT wcs_user_sk, i_category_id, COUNT_BIG(*) as clicks\r\n",
                "  FROM sales.dbo.web_clickstreams\r\n",
                "INNER JOIN sales.dbo.item it ON (wcs_item_sk = i_item_sk\r\n",
                "                        AND wcs_user_sk IS NOT NULL)\r\n",
                "GROUP BY wcs_user_sk, i_category_id\r\n",
                "HAVING COUNT_BIG(*) > 100;"
            ],
            "metadata": {
                "azdata_cell_guid": "dab26bd9-014e-443a-8630-0e3a4cd20b40"
            },
            "outputs": [],
            "execution_count": null
        },
        {
            "cell_type": "markdown",
            "source": [
                "Inspect data"
            ],
            "metadata": {
                "azdata_cell_guid": "8e7ef45a-1ab6-4620-bd22-e53edd4e4140"
            }
        },
        {
            "cell_type": "code",
            "source": [
                "SELECT count(*) FROM [dbo].[web_clickstream_clicks_data_pool]\r\n",
                "SELECT TOP 10 * FROM [dbo].[web_clickstream_clicks_data_pool]"
            ],
            "metadata": {
                "azdata_cell_guid": "0c056dd3-a304-4f68-97b1-961e86ede394"
            },
            "outputs": [],
            "execution_count": null
        },
        {
            "cell_type": "markdown",
            "source": [
                "Query data"
            ],
            "metadata": {
                "azdata_cell_guid": "f65d6c40-5ead-4fa2-94dc-af1aa003d746"
            }
        },
        {
            "cell_type": "code",
            "source": [
                "SELECT TOP (100)\r\n",
                "   w.wcs_user_sk,\r\n",
                "   SUM( CASE WHEN i.i_category = 'Books' THEN 1 ELSE 0 END) AS book_category_clicks,\r\n",
                "   SUM( CASE WHEN w.i_category_id = 1 THEN 1 ELSE 0 END) AS [Home & Kitchen],\r\n",
                "   SUM( CASE WHEN w.i_category_id = 2 THEN 1 ELSE 0 END) AS [Music],\r\n",
                "   SUM( CASE WHEN w.i_category_id = 3 THEN 1 ELSE 0 END) AS [Books],\r\n",
                "   SUM( CASE WHEN w.i_category_id = 4 THEN 1 ELSE 0 END) AS [Clothing & Accessories],\r\n",
                "   SUM( CASE WHEN w.i_category_id = 5 THEN 1 ELSE 0 END) AS [Electronics],\r\n",
                "   SUM( CASE WHEN w.i_category_id = 6 THEN 1 ELSE 0 END) AS [Tools & Home Improvement],\r\n",
                "   SUM( CASE WHEN w.i_category_id = 7 THEN 1 ELSE 0 END) AS [Toys & Games],\r\n",
                "   SUM( CASE WHEN w.i_category_id = 8 THEN 1 ELSE 0 END) AS [Movies & TV],\r\n",
                "   SUM( CASE WHEN w.i_category_id = 9 THEN 1 ELSE 0 END) AS [Sports & Outdoors]\r\n",
                "FROM [dbo].[web_clickstream_clicks_data_pool] as w\r\n",
                "INNER JOIN (SELECT DISTINCT i_category_id, i_category FROM item) as i\r\n",
                "   ON i.i_category_id = w.i_category_id\r\n",
                "GROUP BY w.wcs_user_sk;"
            ],
            "metadata": {
                "azdata_cell_guid": "c7c27b39-b3a1-4767-8c54-f58b606c4dd9"
            },
            "outputs": [],
            "execution_count": null
        },
        {
            "cell_type": "markdown",
            "source": [
                "Clean up"
            ],
            "metadata": {
                "azdata_cell_guid": "65122471-b309-490b-a5f3-baa2e8366871"
            }
        },
        {
            "cell_type": "code",
            "source": [
                "DROP EXTERNAL TABLE [dbo].[web_clickstream_clicks_data_pool];"
            ],
            "metadata": {
                "azdata_cell_guid": "839f34b7-5ace-48c5-8c4b-6163b03d1ce5"
            },
            "outputs": [],
            "execution_count": null
        }
    ]
}