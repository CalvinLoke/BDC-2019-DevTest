{
    "metadata": {
        "kernelspec": {
            "name": "SQL",
            "display_name": "SQL",
            "language": "sql"
        },
        "language_info": {
            "name": "sql",
            "version": ""
        }
    },
    "nbformat_minor": 2,
    "nbformat": 4,
    "cells": [
        {
            "cell_type": "markdown",
            "source": [
                "Create permissions for MSSQL-Spark Connector"
            ],
            "metadata": {
                "azdata_cell_guid": "1a887626-9f10-4d48-8cd0-6c718836b331"
            }
        },
        {
            "cell_type": "code",
            "source": [
                "USE Sales\r\n",
                "CREATE LOGIN sample_user  WITH PASSWORD ='password123!#' \r\n",
                "CREATE USER sample_user FROM LOGIN sample_user\r\n",
                "\r\n",
                "-- To create external tables in data pools\r\n",
                "GRANT ALTER ANY EXTERNAL DATA SOURCE TO sample_user;\r\n",
                "\r\n",
                "-- To create external tables\r\n",
                "GRANT CREATE TABLE TO sample_user;\r\n",
                "GRANT ALTER ANY SCHEMA TO sample_user;\r\n",
                "\r\n",
                "-- To view database state for Sales\r\n",
                "GRANT VIEW DATABASE STATE ON DATABASE::Sales TO sample_user;\r\n",
                "\r\n",
                "ALTER ROLE [db_datareader] ADD MEMBER sample_user\r\n",
                "ALTER ROLE [db_datawriter] ADD MEMBER sample_user"
            ],
            "metadata": {
                "azdata_cell_guid": "8c34298f-1f5b-4f11-aade-1edabab92953"
            },
            "outputs": [],
            "execution_count": null
        },
        {
            "cell_type": "markdown",
            "source": [
                "Create an external data source to the data pool if it does not already exist."
            ],
            "metadata": {
                "azdata_cell_guid": "7c66a3e5-703e-4a3d-8e44-5026cac413ea"
            }
        },
        {
            "cell_type": "code",
            "source": [
                "USE Sales\r\n",
                "GO\r\n",
                "IF NOT EXISTS(SELECT * FROM sys.external_data_sources WHERE name = 'SqlDataPool')\r\n",
                "  CREATE EXTERNAL DATA SOURCE SqlDataPool\r\n",
                "  WITH (LOCATION = 'sqldatapool://controller-svc/default');"
            ],
            "metadata": {
                "azdata_cell_guid": "9e8ab160-deaa-4907-adb8-eb8dc05c0df3"
            },
            "outputs": [],
            "execution_count": null
        },
        {
            "cell_type": "markdown",
            "source": [
                "Create an external table named web\\_clickstreams\\_spark\\_results in the data pool"
            ],
            "metadata": {
                "azdata_cell_guid": "745c90f9-ebfb-4d4d-aa97-997fa4f55049"
            }
        },
        {
            "cell_type": "code",
            "source": [
                "USE Sales\r\n",
                "GO\r\n",
                "IF NOT EXISTS(SELECT * FROM sys.external_tables WHERE name = 'web_clickstreams_spark_results')\r\n",
                "   CREATE EXTERNAL TABLE [web_clickstreams_spark_results]\r\n",
                "   (\"wcs_click_date_sk\" BIGINT , \"wcs_click_time_sk\" BIGINT , \"wcs_sales_sk\" BIGINT , \"wcs_item_sk\" BIGINT , \"wcs_web_page_sk\" BIGINT , \"wcs_user_sk\" BIGINT)\r\n",
                "   WITH\r\n",
                "   (\r\n",
                "      DATA_SOURCE = SqlDataPool,\r\n",
                "      DISTRIBUTION = ROUND_ROBIN\r\n",
                "   );"
            ],
            "metadata": {
                "azdata_cell_guid": "19917108-d49c-4e9a-94ca-0b2355a28f33",
                "tags": []
            },
            "outputs": [],
            "execution_count": null
        },
        {
            "cell_type": "markdown",
            "source": [
                "Create login for data pools and provide permissions to the user"
            ],
            "metadata": {
                "azdata_cell_guid": "5117ce4f-824d-4574-9757-5dd17497ac90"
            }
        },
        {
            "cell_type": "code",
            "source": [
                "EXECUTE( ' Use Sales; CREATE LOGIN sample_user  WITH PASSWORD = ''password123!#'' ;') AT  DATA_SOURCE SqlDataPool;\r\n",
                "\r\n",
                "EXECUTE('Use Sales; CREATE USER sample_user; ALTER ROLE [db_datareader] ADD MEMBER sample_user;  ALTER ROLE [db_datawriter] ADD MEMBER sample_user;') AT DATA_SOURCE SqlDataPool;"
            ],
            "metadata": {
                "azdata_cell_guid": "a76a4892-f744-45b7-ab24-28394a1b5700"
            },
            "outputs": [],
            "execution_count": null
        },
        {
            "cell_type": "markdown",
            "source": [
                "Move to \"Spark | Scalar\" Notebook"
            ],
            "metadata": {
                "azdata_cell_guid": "be8e6701-88cb-4c3d-b644-cf76d744106f"
            }
        },
        {
            "cell_type": "markdown",
            "source": [
                "Run the following query to inspect the ingested data"
            ],
            "metadata": {
                "azdata_cell_guid": "e1a26022-e2c8-4da0-bbaa-5daa508d689c"
            }
        },
        {
            "cell_type": "code",
            "source": [
                "USE Sales\r\n",
                "GO\r\n",
                "SELECT count(*) FROM [web_clickstreams_spark_results];\r\n",
                "SELECT TOP 10 * FROM [web_clickstreams_spark_results];"
            ],
            "metadata": {
                "azdata_cell_guid": "e7a7a129-a697-419b-bef3-25cc24f5ec36"
            },
            "outputs": [],
            "execution_count": null
        },
        {
            "cell_type": "markdown",
            "source": [
                "Clean up external table"
            ],
            "metadata": {
                "azdata_cell_guid": "2ee5b8ff-d2ef-43c8-8b1c-c6a6918b8371"
            }
        },
        {
            "cell_type": "code",
            "source": [
                "DROP EXTERNAL TABLE [dbo].[web_clickstreams_spark_results];"
            ],
            "metadata": {
                "azdata_cell_guid": "0edf7bbe-202e-4811-83a1-2d461302ba2b"
            },
            "outputs": [],
            "execution_count": null
        }
    ]
}