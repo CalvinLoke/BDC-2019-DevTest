{
    "metadata": {
        "kernelspec": {
            "name": "pysparkkernel",
            "display_name": "PySpark",
            "language": ""
        },
        "language_info": {
            "name": "pyspark",
            "mimetype": "text/x-python",
            "codemirror_mode": {
                "name": "python",
                "version": 3
            },
            "pygments_lexer": "python3"
        }
    },
    "nbformat_minor": 2,
    "nbformat": 4,
    "cells": [
        {
            "cell_type": "code",
            "source": [
                "sc.setLogLevel(\"INFO\")\r\n",
                "datafile = \"/test/resale-prices-processed.csv\"\r\n",
                "dataframe = spark.read.format(\"csv\").options(header=\"true\",inferSchema=\"true\", ignoreLeadingWhiteSpace=\"true\", ignoreTrailingWhiteSpace=\"true\").load(datafile)\r\n",
                "# results = spark.read.option(\"inferSchema\", \"true\").csv('/test').toDF(\"c0\", \"c1\",\"c2\",\"c3\",\"c4\",\"c5\",\"c6\",\"c7\",\"c8\",\"c9\",\"c10\")\r\n",
                "dataframe.show(5)"
            ],
            "metadata": {
                "azdata_cell_guid": "d7e10858-fb71-41c6-99ae-598636b3b445"
            },
            "outputs": [
                {
                    "data": {
                        "text/plain": "FloatProgress(value=0.0, bar_style='info', description='Progress:', layout=Layout(height='25px', width='50%'),…",
                        "application/vnd.jupyter.widget-view+json": {
                            "version_major": 2,
                            "version_minor": 0,
                            "model_id": "44f7a77026d140cd9718f91d5e19cf30"
                        }
                    },
                    "metadata": {},
                    "output_type": "display_data"
                },
                {
                    "name": "stdout",
                    "text": "+-------+----------+---------+-----+-----------------+------------+--------------+--------------+-------------------+------------------+------------+\n|  month|      town|flat_type|block|      street_name|storey_range|floor_area_sqm|    flat_model|lease_commence_date|   remaining_lease|resale_price|\n+-------+----------+---------+-----+-----------------+------------+--------------+--------------+-------------------+------------------+------------+\n|2017-01|ANG MO KIO|   2 ROOM|  406|ANG MO KIO AVE 10|    10 TO 12|          44.0|      Improved|               1979|61 years 04 months|    232000.0|\n|2017-01|ANG MO KIO|   3 ROOM|  108| ANG MO KIO AVE 4|    01 TO 03|          67.0|New Generation|               1978|60 years 07 months|    250000.0|\n|2017-01|ANG MO KIO|   3 ROOM|  602| ANG MO KIO AVE 5|    01 TO 03|          67.0|New Generation|               1980|62 years 05 months|    262000.0|\n|2017-01|ANG MO KIO|   3 ROOM|  465|ANG MO KIO AVE 10|    04 TO 06|          68.0|New Generation|               1980| 62 years 01 month|    265000.0|\n|2017-01|ANG MO KIO|   3 ROOM|  601| ANG MO KIO AVE 5|    01 TO 03|          67.0|New Generation|               1980|62 years 05 months|    265000.0|\n+-------+----------+---------+-----+-----------------+------------+--------------+--------------+-------------------+------------------+------------+\nonly showing top 5 rows",
                    "output_type": "stream"
                }
            ],
            "execution_count": 67
        }
    ]
}