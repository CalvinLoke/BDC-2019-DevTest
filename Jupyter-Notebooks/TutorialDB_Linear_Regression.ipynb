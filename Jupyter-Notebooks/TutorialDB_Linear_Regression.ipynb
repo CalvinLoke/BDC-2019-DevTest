{
    "metadata": {
        "kernelspec": {
            "name": "SQL",
            "display_name": "SQL",
            "language": "sql"
        },
        "language_info": {
            "name": "sql",
            "version": ""
        }
    },
    "nbformat_minor": 2,
    "nbformat": 4,
    "cells": [
        {
            "cell_type": "code",
            "source": [
                "-- Stored procedure that trains and generates a Python model using the rental_data and a linear regression algorithm\r\n",
                "DROP PROCEDURE IF EXISTS generate_rental_py_model;\r\n",
                "go\r\n",
                "CREATE PROCEDURE generate_rental_py_model (@trained_model varbinary(max) OUTPUT)\r\n",
                "AS\r\n",
                "BEGIN\r\n",
                "    EXECUTE sp_execute_external_script\r\n",
                "      @language = N'Python'\r\n",
                "    , @script = N'\r\n",
                "from sklearn.linear_model import LinearRegression\r\n",
                "import pickle\r\n",
                "\r\n",
                "df = rental_train_data\r\n",
                "\r\n",
                "# Get all the columns from the dataframe.\r\n",
                "columns = df.columns.tolist()\r\n",
                "\r\n",
                "# Store the variable well be predicting on.\r\n",
                "target = \"RentalCount\"\r\n",
                "\r\n",
                "# Initialize the model class.\r\n",
                "lin_model = LinearRegression()\r\n",
                "\r\n",
                "# Fit the model to the training data.\r\n",
                "lin_model.fit(df[columns], df[target])\r\n",
                "\r\n",
                "# Before saving the model to the DB table, convert it to a binary object\r\n",
                "trained_model = pickle.dumps(lin_model)'\r\n",
                "\r\n",
                ", @input_data_1 = N'select \"RentalCount\", \"Year\", \"Month\", \"Day\", \"WeekDay\", \"Snow\", \"Holiday\" from dbo.rental_data where Year < 2015'\r\n",
                ", @input_data_1_name = N'rental_train_data'\r\n",
                ", @params = N'@trained_model varbinary(max) OUTPUT'\r\n",
                ", @trained_model = @trained_model OUTPUT;\r\n",
                "END;\r\n",
                "GO"
            ],
            "metadata": {
                "azdata_cell_guid": "10f9cdc6-ce70-4f2f-9e3d-9d830715eca3"
            },
            "outputs": [
                {
                    "output_type": "display_data",
                    "data": {
                        "text/html": "Commands completed successfully."
                    },
                    "metadata": {}
                },
                {
                    "output_type": "display_data",
                    "data": {
                        "text/html": "Commands completed successfully."
                    },
                    "metadata": {}
                },
                {
                    "output_type": "display_data",
                    "data": {
                        "text/html": "Total execution time: 00:00:00.048"
                    },
                    "metadata": {}
                }
            ],
            "execution_count": 1
        },
        {
            "cell_type": "code",
            "source": [
                "USE TutorialDB;\r\n",
                "DROP TABLE IF EXISTS dbo.rental_py_models;\r\n",
                "GO\r\n",
                "CREATE TABLE dbo.rental_py_models (\r\n",
                "    model_name VARCHAR(30) NOT NULL DEFAULT('default model') PRIMARY KEY,\r\n",
                "    model VARBINARY(MAX) NOT NULL\r\n",
                ");\r\n",
                "GO"
            ],
            "metadata": {
                "azdata_cell_guid": "dcebd71c-e594-440f-905a-59aa1a3c7381"
            },
            "outputs": [
                {
                    "output_type": "display_data",
                    "data": {
                        "text/html": "Commands completed successfully."
                    },
                    "metadata": {}
                },
                {
                    "output_type": "display_data",
                    "data": {
                        "text/html": "Commands completed successfully."
                    },
                    "metadata": {}
                },
                {
                    "output_type": "display_data",
                    "data": {
                        "text/html": "Total execution time: 00:00:00.561"
                    },
                    "metadata": {}
                }
            ],
            "execution_count": 2
        },
        {
            "cell_type": "code",
            "source": [
                "DECLARE @model VARBINARY(MAX);\r\n",
                "EXECUTE generate_rental_py_model @model OUTPUT;\r\n",
                "\r\n",
                "INSERT INTO rental_py_models (model_name, model) VALUES('linear_model', @model);"
            ],
            "metadata": {
                "azdata_cell_guid": "65b7408f-7293-4de8-b1e2-d24d9b81b7f2"
            },
            "outputs": [
                {
                    "output_type": "display_data",
                    "data": {
                        "text/html": "(1 row affected)"
                    },
                    "metadata": {}
                },
                {
                    "output_type": "display_data",
                    "data": {
                        "text/html": "Total execution time: 00:00:04.789"
                    },
                    "metadata": {}
                }
            ],
            "execution_count": 3
        },
        {
            "cell_type": "code",
            "source": [
                "SELECT * FROM rental_py_models"
            ],
            "metadata": {
                "azdata_cell_guid": "97b8bfa1-6b0e-41c9-9b3c-1336d63996f4"
            },
            "outputs": [
                {
                    "output_type": "display_data",
                    "data": {
                        "text/html": "(1 row affected)"
                    },
                    "metadata": {}
                },
                {
                    "output_type": "display_data",
                    "data": {
                        "text/html": "Total execution time: 00:00:00.031"
                    },
                    "metadata": {}
                },
                {
                    "output_type": "execute_result",
                    "metadata": {},
                    "execution_count": 4,
                    "data": {
                        "application/vnd.dataresource+json": {
                            "schema": {
                                "fields": [
                                    {
                                        "name": "model_name"
                                    },
                                    {
                                        "name": "model"
                                    }
                                ]
                            },
                            "data": [
                                {
                                    "0": "linear_model",
                                    "1": "0x800363736B6C6561726E2E6C696E6561725F6D6F64656C2E626173650A4C696E65617252656772657373696F6E0A7100298171017D710228580D0000006669745F696E7465726365707471038858090000006E6F726D616C697A657104895806000000636F70795F5871058858060000006E5F6A6F627371064E5805000000636F65665F7107636E756D70792E636F72652E6D756C746961727261790A5F7265636F6E7374727563740A7108636E756D70790A6E6461727261790A71094B0085710A430162710B87710C52710D284B014B0785710E636E756D70790A64747970650A710F5802000000663871104B004B01877111527112284B0358010000003C71134E4E4E4AFFFFFFFF4AFFFFFFFF4B0074711462894338000000000000F03FB356147F53C2E1BC025E1A3A2988AC3C9D4CF928BE4E9EBC3B9D90CA4209B43CABDAC943C67AEB3C92B40EC90F0A32BD71157471166258090000005F72657369647565737117636E756D70792E636F72652E6D756C746961727261790A7363616C61720A71186812430804720EFAC562D03A711986711A52711B580500000072616E6B5F711C4B07580900000073696E67756C61725F711D680868094B0085711E680B87711F527120284B014B0785712168128943388D8D95B87D0CAB40332A9EE40EFF6240E97534A6012651401CF45FE96F444140975A9166B163214091B48BC719E71F40FDBEB547A6DD0440712274712362580A000000696E746572636570745F7124681868124308000000000080913D712586712652712758100000005F736B6C6561726E5F76657273696F6E71285806000000302E32302E32712975622E"
                                }
                            ]
                        },
                        "text/html": [
                            "<table>",
                            "<tr><th>model_name</th><th>model</th></tr>",
                            "<tr><td>linear_model</td><td>0x800363736B6C6561726E2E6C696E6561725F6D6F64656C2E626173650A4C696E65617252656772657373696F6E0A7100298171017D710228580D0000006669745F696E7465726365707471038858090000006E6F726D616C697A657104895806000000636F70795F5871058858060000006E5F6A6F627371064E5805000000636F65665F7107636E756D70792E636F72652E6D756C746961727261790A5F7265636F6E7374727563740A7108636E756D70790A6E6461727261790A71094B0085710A430162710B87710C52710D284B014B0785710E636E756D70790A64747970650A710F5802000000663871104B004B01877111527112284B0358010000003C71134E4E4E4AFFFFFFFF4AFFFFFFFF4B0074711462894338000000000000F03FB356147F53C2E1BC025E1A3A2988AC3C9D4CF928BE4E9EBC3B9D90CA4209B43CABDAC943C67AEB3C92B40EC90F0A32BD71157471166258090000005F72657369647565737117636E756D70792E636F72652E6D756C746961727261790A7363616C61720A71186812430804720EFAC562D03A711986711A52711B580500000072616E6B5F711C4B07580900000073696E67756C61725F711D680868094B0085711E680B87711F527120284B014B0785712168128943388D8D95B87D0CAB40332A9EE40EFF6240E97534A6012651401CF45FE96F444140975A9166B163214091B48BC719E71F40FDBEB547A6DD0440712274712362580A000000696E746572636570745F7124681868124308000000000080913D712586712652712758100000005F736B6C6561726E5F76657273696F6E71285806000000302E32302E32712975622E</td></tr>",
                            "</table>"
                        ]
                    }
                }
            ],
            "execution_count": 4
        },
        {
            "cell_type": "code",
            "source": [
                "DROP PROCEDURE IF EXISTS py_predict_rentalcount;\r\n",
                "GO\r\n",
                "CREATE PROCEDURE py_predict_rentalcount (@model varchar(100))\r\n",
                "AS\r\n",
                "BEGIN\r\n",
                "    DECLARE @py_model varbinary(max) = (select model from rental_py_models where model_name = @model);\r\n",
                "\r\n",
                "    EXECUTE sp_execute_external_script\r\n",
                "                @language = N'Python',\r\n",
                "                @script = N'\r\n",
                "\r\n",
                "# Import the scikit-learn function to compute error.\r\n",
                "from sklearn.metrics import mean_squared_error\r\n",
                "import pickle\r\n",
                "import pandas\r\n",
                "\r\n",
                "rental_model = pickle.loads(py_model)\r\n",
                "\r\n",
                "df = rental_score_data\r\n",
                "\r\n",
                "# Get all the columns from the dataframe.\r\n",
                "columns = df.columns.tolist()\r\n",
                "\r\n",
                "# Variable you will be predicting on.\r\n",
                "target = \"RentalCount\"\r\n",
                "\r\n",
                "# Generate the predictions for the test set.\r\n",
                "lin_predictions = rental_model.predict(df[columns])\r\n",
                "print(lin_predictions)\r\n",
                "\r\n",
                "# Compute error between the test predictions and the actual values.\r\n",
                "lin_mse = mean_squared_error(lin_predictions, df[target])\r\n",
                "#print(lin_mse)\r\n",
                "\r\n",
                "predictions_df = pandas.DataFrame(lin_predictions)\r\n",
                "\r\n",
                "OutputDataSet = pandas.concat([predictions_df, df[\"RentalCount\"], df[\"Month\"], df[\"Day\"], df[\"WeekDay\"], df[\"Snow\"], df[\"Holiday\"], df[\"Year\"]], axis=1)\r\n",
                "'\r\n",
                ", @input_data_1 = N'Select \"RentalCount\", \"Year\" ,\"Month\", \"Day\", \"WeekDay\", \"Snow\", \"Holiday\"  from rental_data where Year = 2015'\r\n",
                ", @input_data_1_name = N'rental_score_data'\r\n",
                ", @params = N'@py_model varbinary(max)'\r\n",
                ", @py_model = @py_model\r\n",
                "with result sets ((\"RentalCount_Predicted\" float, \"RentalCount\" float, \"Month\" float,\"Day\" float,\"WeekDay\" float,\"Snow\" float,\"Holiday\" float, \"Year\" float));\r\n",
                "\r\n",
                "END;\r\n",
                "GO"
            ],
            "metadata": {
                "azdata_cell_guid": "c6d670e0-8e36-49f6-a3aa-bfbbdf5b1d63"
            },
            "outputs": [],
            "execution_count": null
        },
        {
            "cell_type": "code",
            "source": [
                "DROP TABLE IF EXISTS [dbo].[py_rental_predictions];\r\n",
                "GO\r\n",
                "\r\n",
                "CREATE TABLE [dbo].[py_rental_predictions](\r\n",
                " [RentalCount_Predicted] [int] NULL,\r\n",
                " [RentalCount_Actual] [int] NULL,\r\n",
                " [Month] [int] NULL,\r\n",
                " [Day] [int] NULL,\r\n",
                " [WeekDay] [int] NULL,\r\n",
                " [Snow] [int] NULL,\r\n",
                " [Holiday] [int] NULL,\r\n",
                " [Year] [int] NULL\r\n",
                ") ON [PRIMARY]\r\n",
                "GO"
            ],
            "metadata": {
                "azdata_cell_guid": "c504a67b-93ea-40a8-aae7-060055391f46"
            },
            "outputs": [],
            "execution_count": null
        },
        {
            "cell_type": "code",
            "source": [
                "--Insert the results of the predictions for test set into a table\r\n",
                "INSERT INTO py_rental_predictions\r\n",
                "EXEC py_predict_rentalcount 'linear_model';\r\n",
                "\r\n",
                "-- Select contents of the table\r\n",
                "SELECT * FROM py_rental_predictions;"
            ],
            "metadata": {
                "azdata_cell_guid": "c2f7c7ed-2c51-44a0-9280-dd85cd16436e"
            },
            "outputs": [],
            "execution_count": null
        }
    ]
}