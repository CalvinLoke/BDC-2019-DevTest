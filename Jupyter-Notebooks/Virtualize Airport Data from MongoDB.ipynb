{
    "metadata": {
        "kernelspec": {
            "name": "SQL",
            "display_name": "SQL",
            "language": "sql"
        },
        "language_info": {
            "name": "sql",
            "version": ""
        }
    },
    "nbformat_minor": 2,
    "nbformat": 4,
    "cells": [
        {
            "cell_type": "markdown",
            "source": [
                "Creating a new database"
            ],
            "metadata": {
                "azdata_cell_guid": "1b2cc3d0-3f7b-449e-8e8e-490345be923c"
            }
        },
        {
            "cell_type": "code",
            "source": [
                "IF NOT EXISTS (SELECT * FROM master.dbo.sysdatabases WHERE name = 'externalDB')\r\n",
                "    BEGIN\r\n",
                "        CREATE DATABASE externalDB\r\n",
                "END;\r\n",
                "SELECT * FROM sys.databases;\r\n",
                "GO\r\n",
                "USE externalDB;\r\n",
                "GO"
            ],
            "metadata": {
                "azdata_cell_guid": "b8560ce0-f81c-48b7-b4ac-b93eaafe89fc",
                "tags": []
            },
            "outputs": [],
            "execution_count": null
        },
        {
            "cell_type": "markdown",
            "source": [
                "Create a master key in the database"
            ],
            "metadata": {
                "azdata_cell_guid": "d683ddce-7feb-4921-8227-5a82cae52054"
            }
        },
        {
            "cell_type": "code",
            "source": [
                "CREATE MASTER KEY ENCRYPTION BY PASSWORD = 'Password1234';"
            ],
            "metadata": {
                "azdata_cell_guid": "89c73551-bc58-47a1-a650-f481f7d59bfa"
            },
            "outputs": [],
            "execution_count": null
        },
        {
            "cell_type": "markdown",
            "source": [
                "Create a scoped credential for MongoDB (with login credentials)"
            ],
            "metadata": {
                "azdata_cell_guid": "c594b9b1-c711-49a3-9cec-9442a2415f3a"
            }
        },
        {
            "cell_type": "code",
            "source": [
                "CREATE DATABASE SCOPED CREDENTIAL MongoDB\r\n",
                "WITH IDENTITY = 'root', SECRET = 'password123'"
            ],
            "metadata": {
                "azdata_cell_guid": "a66075c8-bac2-4922-bbfa-c8881183d226",
                "tags": []
            },
            "outputs": [],
            "execution_count": null
        },
        {
            "cell_type": "markdown",
            "source": [
                "Create external data source using MongoDB login credentials"
            ],
            "metadata": {
                "azdata_cell_guid": "1f04d077-344f-4a09-a401-d83a2461c0e8"
            }
        },
        {
            "cell_type": "code",
            "source": [
                "CREATE EXTERNAL DATA SOURCE MongoDataSource\r\n",
                "WITH (\r\n",
                "    LOCATION = 'mongodb://10.10.2.218:27017',\r\n",
                "    CREDENTIAL = MongoDB,\r\n",
                "    connection_options = 'UseDefaultEncryptionOptions=false'\r\n",
                ");"
            ],
            "metadata": {
                "azdata_cell_guid": "2af61fa0-9808-4db1-8842-1a1437efd6ee"
            },
            "outputs": [],
            "execution_count": null
        },
        {
            "cell_type": "markdown",
            "source": [
                "(FOR DEBUGGING)\n",
                "\n",
                "Verify that scoped scoped credentials and data sources were created"
            ],
            "metadata": {
                "azdata_cell_guid": "3e51b793-3d8c-4777-82a9-f3c93ace05fc"
            }
        },
        {
            "cell_type": "code",
            "source": [
                "USE externalDB\r\n",
                "SELECT * FROM sys.database_scoped_credentials\r\n",
                "SELECT * FROM sys.external_data_sources"
            ],
            "metadata": {
                "azdata_cell_guid": "05c3ab8a-3b60-4c7b-bde9-1a668bcb3f66",
                "tags": []
            },
            "outputs": [],
            "execution_count": null
        },
        {
            "cell_type": "markdown",
            "source": [
                "Create external table for MongoDB"
            ],
            "metadata": {
                "azdata_cell_guid": "49b79d87-d489-47bf-ba7b-81d6927a493f"
            }
        },
        {
            "cell_type": "code",
            "source": [
                "BEGIN TRY\r\n",
                "    BEGIN TRANSACTION T3cb6d4aaec3e45e89d78784f8a44817\r\n",
                "        USE [externalDB];\r\n",
                "        EXEC(N'CREATE SCHEMA [airportData]');\r\n",
                "        CREATE EXTERNAL TABLE [airportData].[mailVolume]\r\n",
                "        (\r\n",
                "            [_id] NVARCHAR(24) COLLATE SQL_Latin1_General_CP1_CI_AS NOT NULL,\r\n",
                "            [month] NVARCHAR(4000) COLLATE SQL_Latin1_General_CP1_CI_AS,\r\n",
                "            [Total Mail] NVARCHAR(4000) COLLATE SQL_Latin1_General_CP1_CI_AS\r\n",
                "        )\r\n",
                "        WITH (LOCATION = N'[airportData].[mailVolume]', DATA_SOURCE = [MongoDataSource]);\r\n",
                "    COMMIT TRANSACTION T3cb6d4aaec3e45e89d78784f8a44817\r\n",
                "END TRY\r\n",
                "BEGIN CATCH\r\n",
                "    IF @@TRANCOUNT > 0\r\n",
                "        ROLLBACK TRANSACTION T3cb6d4aaec3e45e89d78784f8a44817\r\n",
                "    DECLARE @ErrorMessage NVARCHAR(max) = ERROR_MESSAGE();\r\n",
                "    DECLARE @ErrorSeverity INT = ERROR_SEVERITY();\r\n",
                "    DECLARE @ErrorState INT = ERROR_STATE();\r\n",
                "    RAISERROR(@ErrorMessage, @ErrorSeverity, @ErrorState);\r\n",
                "END CATCH;\r\n",
                ""
            ],
            "metadata": {
                "azdata_cell_guid": "366db1d7-f8d1-4ba4-9d06-73da8001f407",
                "tags": []
            },
            "outputs": [],
            "execution_count": null
        },
        {
            "cell_type": "markdown",
            "source": [
                "Data querying"
            ],
            "metadata": {
                "azdata_cell_guid": "13d08b01-f3dd-4e28-91e3-73967120e435"
            }
        },
        {
            "cell_type": "code",
            "source": [
                "SELECT TOP (1000) [_id]\r\n",
                "      ,[month]\r\n",
                "      ,[Total Mail]\r\n",
                "  FROM [externalDB].[airportData].[mailVolume]"
            ],
            "metadata": {
                "azdata_cell_guid": "9c8f4d8d-55e7-4337-ba61-5e4bf21783e9"
            },
            "outputs": [],
            "execution_count": null
        },
        {
            "cell_type": "markdown",
            "source": [
                "Joining data from the two tables"
            ],
            "metadata": {
                "azdata_cell_guid": "c7852972-0d94-4193-8c6f-dc074a483024"
            }
        },
        {
            "cell_type": "code",
            "source": [
                "SELECT [airportdata].[mailVolume].[month], [airportdata].[mailVolume].[Total Mail],\r\n",
                "[dbo].[MonthlyArrivals].[Total_Aircraft_Arrivals_And_Departures], [dbo].[MonthlyArrivals].[Total_Passengers]\r\n",
                "FROM [airportdata].[mailVolume]\r\n",
                "JOIN [dbo].[MonthlyArrivals]\r\n",
                "ON [airportdata].[mailVolume].[month] = [dbo].[MonthlyArrivals].[month]"
            ],
            "metadata": {
                "azdata_cell_guid": "2302ef00-aa61-44b4-9b8f-acd5504cb816"
            },
            "outputs": [],
            "execution_count": null
        },
        {
            "cell_type": "markdown",
            "source": [
                "Dropping the tables"
            ],
            "metadata": {
                "azdata_cell_guid": "7b412a93-e73c-4f89-9c22-ae2b041e9c57"
            }
        },
        {
            "cell_type": "code",
            "source": [
                "IF  EXISTS (SELECT * FROM sys.objects WHERE object_id = OBJECT_ID(N'[airportData].[mailVolume]') AND type in (N'U'))\r\n",
                "DROP EXTERNAL TABLE [airportData].[mailVolume]\r\n",
                "GO\r\n",
                "IF  EXISTS (SELECT * FROM sys.objects WHERE object_id = OBJECT_ID(N'[dbo].[MonthlyArrivals]') AND type in (N'U'))\r\n",
                "DROP EXTERNAL TABLE [dbo].[MonthlyArrivals]\r\n",
                "GO"
            ],
            "metadata": {
                "azdata_cell_guid": "7d9f7906-06a9-4624-8d6c-298d26b52f22"
            },
            "outputs": [],
            "execution_count": null
        },
        {
            "cell_type": "markdown",
            "source": [
                "Dropping the database"
            ],
            "metadata": {
                "azdata_cell_guid": "ae84cf39-4396-40fc-a1d8-f6c8b1cc8b8f"
            }
        },
        {
            "cell_type": "code",
            "source": [
                "USE master;\r\n",
                "GO\r\n",
                "ALTER DATABASE externalDB SET SINGLE_USER WITH ROLLBACK IMMEDIATE;\r\n",
                "GO\r\n",
                "DROP DATABASE externalDB;\r\n",
                "GO"
            ],
            "metadata": {
                "azdata_cell_guid": "c2bc857b-9922-4d22-9ac6-1dfa38067012"
            },
            "outputs": [],
            "execution_count": null
        }
    ]
}