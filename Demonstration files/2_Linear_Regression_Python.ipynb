{
    "metadata": {
        "kernelspec": {
            "name": "python3",
            "display_name": "Python 3",
            "language": "python"
        },
        "language_info": {
            "name": "python",
            "version": "3.8.6",
            "mimetype": "text/x-python",
            "codemirror_mode": {
                "name": "ipython",
                "version": 3
            },
            "pygments_lexer": "ipython3",
            "nbconvert_exporter": "python",
            "file_extension": ".py"
        }
    },
    "nbformat_minor": 2,
    "nbformat": 4,
    "cells": [
        {
            "cell_type": "code",
            "source": [
                "#import libraries\n",
                "import pandas\n",
                "\n",
                "from sklearn.linear_model import LinearRegression\n",
                "from sklearn.model_selection import train_test_split\n",
                "\n",
                "import matplotlib\n",
                "\n",
                "import pyodbc"
            ],
            "metadata": {
                "azdata_cell_guid": "80006fa2-32ce-43df-bcaf-8bfb73f2ba72"
            },
            "outputs": [],
            "execution_count": null
        },
        {
            "cell_type": "code",
            "source": [
                "#import data\n",
                "conn_str = pyodbc.connect('DRIVER={ODBC Driver 17 for SQL Server}; SERVER=10.10.0.104,31433; DATABASE=externalDB;UID=admin;PWD=Password1234')\n",
                "\n",
                "query_str = \"SELECT * FROM [bdc].[hdb_resale_prices]\"\n",
                "raw_dataframe = pandas.read_sql(sql=query_str, con=conn_str)\n",
                "print(\"Dataframe: \")\n",
                "print(raw_dataframe)\n",
                ""
            ],
            "metadata": {
                "scrolled": true,
                "azdata_cell_guid": "c1ffc43f-fe99-4a2d-88df-fadf35b7e70e"
            },
            "outputs": [],
            "execution_count": null
        },
        {
            "cell_type": "code",
            "source": [
                "# Data preprocessing\n",
                "raw_dataframe.town = pandas.factorize(raw_dataframe.town)[0]\n",
                "raw_dataframe.flat_type = pandas.factorize(raw_dataframe.flat_type)[0]\n",
                "raw_dataframe.flat_model = pandas.factorize(raw_dataframe.flat_model)[0]\n",
                "print(raw_dataframe)"
            ],
            "metadata": {
                "azdata_cell_guid": "cab9f9c1-42c9-4fa9-aadd-d4917ae6a697"
            },
            "outputs": [],
            "execution_count": null
        },
        {
            "cell_type": "code",
            "source": [
                "#Observing the relationship between dependent variable and time\n",
                "#custom range\n",
                "town_value = 0\n",
                "month_value = 1\n",
                "year_value = 2017\n",
                "refined_df = raw_dataframe.loc[ (raw_dataframe['town'] == town_value) &\n",
                "                              # (raw_dataframe['month'] == month_value) &\n",
                "                                (raw_dataframe['year'] == year_value) ]\n",
                "dependent_variable = ['resale_price'] \n",
                "dependent_dataset = refined_df[dependent_variable]\n",
                "print(refined_df)\n",
                "print(refined_df.shape)"
            ],
            "metadata": {
                "scrolled": true,
                "azdata_cell_guid": "b7d4b703-dc48-41fd-a48e-e65ceadf28cc"
            },
            "outputs": [],
            "execution_count": null
        },
        {
            "cell_type": "code",
            "source": [
                "dependent_dataset.head(-1).plot()\n",
                "# dependent_dataset.head(-1)[custom_range_start:custom_range_stop].plot() #modify this value to adjust number of rows returned"
            ],
            "metadata": {
                "azdata_cell_guid": "f1dd2697-2072-4d7f-b861-6ff8d6696798"
            },
            "outputs": [],
            "execution_count": null
        },
        {
            "cell_type": "code",
            "source": [
                "# Define dependent and independent variables\n",
                "independent_variables = ['flat_type','floor_area_sqm','flat_model','remaining_lease_months'] #input any number of variables\n",
                "dependent_variable = ['resale_price'] #only input one variable\n",
                "\n",
                "# Split data into dependent and independent \n",
                "independent_dataset = refined_df[independent_variables]\n",
                "dependent_dataset = refined_df[dependent_variable]\n",
                "\n",
                "# Further splitting dataset into training and testing subsets\n",
                "test_ratio=0.2 #splits the data into testing and training sets with ratio 0.2\n",
                "indp_train_set, indp_test_set, dep_train_set, dep_test_set = train_test_split(independent_dataset, \n",
                "                                                                              dependent_dataset, \n",
                "                                                                              test_size=test_ratio)\n",
                "\n",
                "print(indp_train_set) #outputs the generated test set"
            ],
            "metadata": {
                "azdata_cell_guid": "51893f19-6dbb-46f0-b69a-1cf17feb4090"
            },
            "outputs": [],
            "execution_count": null
        },
        {
            "cell_type": "code",
            "source": [
                "print(independent_dataset)\n",
                "print(dependent_dataset)"
            ],
            "metadata": {
                "azdata_cell_guid": "b5037802-7a68-4f8d-bcda-e8f15ec87a0c",
                "tags": [
                    "hide_input"
                ]
            },
            "outputs": [],
            "execution_count": null
        },
        {
            "cell_type": "code",
            "source": [
                "# Create regression object and train model\n",
                "linear_model = LinearRegression()\n",
                "linear_model.fit(indp_train_set, dep_train_set)\n",
                "print(\"Coefficients:\", linear_model.coef_)\n",
                "print(\"Intercept:\", linear_model.intercept_)"
            ],
            "metadata": {
                "azdata_cell_guid": "b53d38ee-2907-4b0b-b380-27c58124ab8d"
            },
            "outputs": [],
            "execution_count": null
        },
        {
            "cell_type": "code",
            "source": [
                "# Generate predictions\n",
                "linear_predictions = linear_model.predict(indp_test_set)\n",
                "linear_predictions"
            ],
            "metadata": {
                "azdata_cell_guid": "c68cbb06-4aa3-4d48-bd22-8e9f431bca80"
            },
            "outputs": [],
            "execution_count": null
        },
        {
            "cell_type": "code",
            "source": [
                "# Compare predictions\n",
                "print(\"Model score: \", linear_model.score(indp_test_set, dep_test_set))"
            ],
            "metadata": {
                "azdata_cell_guid": "cd2c0609-03ca-4f64-ba02-bd2fa65f1caa"
            },
            "outputs": [],
            "execution_count": null
        },
        {
            "cell_type": "code",
            "source": [
                "# Custom predictions \n",
                "linear_predictions = linear_model.predict( [] )     \n",
                "predictions_dataframe = pandas.DataFrame(linear_predictions)\n",
                "predictions_dataframe.columns = ['predicted_price']\n",
                "output_dataframe = pandas.concat( [dependent_dataset, predictions_dataframe], axis = 1)\n",
                "print(output_dataframe)"
            ],
            "metadata": {
                "azdata_cell_guid": "4ce1730f-704f-44e6-a54d-78699c5206fd"
            },
            "outputs": [],
            "execution_count": null
        }
    ]
}