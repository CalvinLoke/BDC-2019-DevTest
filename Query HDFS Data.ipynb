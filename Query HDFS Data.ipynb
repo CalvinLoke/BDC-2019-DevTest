{
    "metadata": {
        "kernelspec": {
            "name": "SQL",
            "display_name": "SQL",
            "language": "sql"
        },
        "language_info": {
            "name": "sql",
            "version": ""
        }
    },
    "nbformat_minor": 2,
    "nbformat": 4,
    "cells": [
        {
            "cell_type": "markdown",
            "source": [
                "Change database of interest to sales"
            ],
            "metadata": {
                "azdata_cell_guid": "6fb7c3df-1881-4086-9fd4-8c0f156d0c7f"
            }
        },
        {
            "cell_type": "code",
            "source": [
                "USE Sales"
            ],
            "metadata": {
                "azdata_cell_guid": "8f79ee3b-8d22-404b-b5c2-36e67ab4fc0e"
            },
            "outputs": [],
            "execution_count": null
        },
        {
            "cell_type": "markdown",
            "source": [
                "Define format of CSV file"
            ],
            "metadata": {
                "azdata_cell_guid": "0d726895-dee1-471e-b740-2da298ba5d03"
            }
        },
        {
            "cell_type": "code",
            "source": [
                "CREATE EXTERNAL FILE FORMAT csv_file\r\n",
                "WITH (\r\n",
                "    FORMAT_TYPE = DELIMITEDTEXT,\r\n",
                "    FORMAT_OPTIONS(\r\n",
                "        FIELD_TERMINATOR = ',',\r\n",
                "        STRING_DELIMITER = '\"',\r\n",
                "        FIRST_ROW = 2,\r\n",
                "        USE_TYPE_DEFAULT = TRUE)\r\n",
                ");"
            ],
            "metadata": {
                "azdata_cell_guid": "18a63425-9e8f-4416-9954-45a090de9f9c"
            },
            "outputs": [],
            "execution_count": null
        },
        {
            "cell_type": "markdown",
            "source": [
                "Create external data source"
            ],
            "metadata": {
                "azdata_cell_guid": "7031e5b1-876d-4c6e-b711-a1711471e6cb"
            }
        },
        {
            "cell_type": "code",
            "source": [
                "IF NOT EXISTS(SELECT * FROM sys.external_data_sources WHERE name = 'SqlStoragePool')\r\n",
                "BEGIN\r\n",
                "  CREATE EXTERNAL DATA SOURCE SqlStoragePool\r\n",
                "  WITH (LOCATION = 'sqlhdfs://controller-svc/default');\r\n",
                "END"
            ],
            "metadata": {
                "azdata_cell_guid": "88fd5dbb-0c40-4bc2-a56a-ac7b4344980b"
            },
            "outputs": [],
            "execution_count": null
        },
        {
            "cell_type": "markdown",
            "source": [
                "Create external table"
            ],
            "metadata": {
                "azdata_cell_guid": "c6d9fe1c-2cc7-4ed0-a64e-cde964e8df20"
            }
        },
        {
            "cell_type": "code",
            "source": [
                "CREATE EXTERNAL TABLE [web_clickstreams_hdfs]\r\n",
                "(\"wcs_click_date_sk\" BIGINT , \"wcs_click_time_sk\" BIGINT , \"wcs_sales_sk\" BIGINT , \"wcs_item_sk\" BIGINT , \"wcs_web_page_sk\" BIGINT , \"wcs_user_sk\" BIGINT)\r\n",
                "WITH\r\n",
                "(\r\n",
                "    DATA_SOURCE = SqlStoragePool,\r\n",
                "    LOCATION = '/clickstream_data',\r\n",
                "    FILE_FORMAT = csv_file\r\n",
                ");\r\n",
                "GO"
            ],
            "metadata": {
                "azdata_cell_guid": "dd594fa4-69d7-4fbb-b53f-278332812f07"
            },
            "outputs": [],
            "execution_count": null
        },
        {
            "cell_type": "markdown",
            "source": [
                "Query the data"
            ],
            "metadata": {
                "azdata_cell_guid": "bb853a6d-66d1-4f85-a441-91ce774c1352"
            }
        },
        {
            "cell_type": "code",
            "source": [
                "SELECT  \r\n",
                "    wcs_user_sk,\r\n",
                "    SUM( CASE WHEN i_category = 'Books' THEN 1 ELSE 0 END) AS book_category_clicks,\r\n",
                "    SUM( CASE WHEN i_category_id = 1 THEN 1 ELSE 0 END) AS [Home & Kitchen],\r\n",
                "    SUM( CASE WHEN i_category_id = 2 THEN 1 ELSE 0 END) AS [Music],\r\n",
                "    SUM( CASE WHEN i_category_id = 3 THEN 1 ELSE 0 END) AS [Books],\r\n",
                "    SUM( CASE WHEN i_category_id = 4 THEN 1 ELSE 0 END) AS [Clothing & Accessories],\r\n",
                "    SUM( CASE WHEN i_category_id = 5 THEN 1 ELSE 0 END) AS [Electronics],\r\n",
                "    SUM( CASE WHEN i_category_id = 6 THEN 1 ELSE 0 END) AS [Tools & Home Improvement],\r\n",
                "    SUM( CASE WHEN i_category_id = 7 THEN 1 ELSE 0 END) AS [Toys & Games],\r\n",
                "    SUM( CASE WHEN i_category_id = 8 THEN 1 ELSE 0 END) AS [Movies & TV],\r\n",
                "    SUM( CASE WHEN i_category_id = 9 THEN 1 ELSE 0 END) AS [Sports & Outdoors]\r\n",
                "  FROM [dbo].[web_clickstreams_hdfs]\r\n",
                "  INNER JOIN item it ON (wcs_item_sk = i_item_sk\r\n",
                "                        AND wcs_user_sk IS NOT NULL)\r\n",
                "GROUP BY  wcs_user_sk;\r\n",
                "GO"
            ],
            "metadata": {
                "azdata_cell_guid": "2583f9f4-32fb-4a69-bf43-74af6dfe2560"
            },
            "outputs": [],
            "execution_count": null
        },
        {
            "cell_type": "markdown",
            "source": [
                "Clean up"
            ],
            "metadata": {
                "azdata_cell_guid": "b51e12c7-1496-46a9-afcd-a273399cd5c4"
            }
        },
        {
            "cell_type": "code",
            "source": [
                "DROP EXTERNAL TABLE [dbo].[web_clickstreams_hdfs];\r\n",
                "GO"
            ],
            "metadata": {
                "azdata_cell_guid": "4381a52e-515f-4faf-a2df-0cd17b4c4509"
            },
            "outputs": [],
            "execution_count": null
        }
    ]
}